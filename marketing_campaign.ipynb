{
 "cells": [
  {
   "cell_type": "markdown",
   "id": "9c290c7a",
   "metadata": {},
   "source": [
    "# Analysis of Marketing Campaign  "
   ]
  },
  {
   "cell_type": "markdown",
   "id": "43d928d3",
   "metadata": {},
   "source": [
    "## By: Rotem Klein"
   ]
  },
  {
   "cell_type": "markdown",
   "id": "88e0dc2e",
   "metadata": {},
   "source": [
    "### Introduction"
   ]
  },
  {
   "cell_type": "markdown",
   "id": "8425fc8f",
   "metadata": {},
   "source": [
    "In this project I will try to predict who will respond to an offer for a product or service.\n",
    "The data was taken from Kaggle and includes the following information about costumers:\n",
    "Education - customer’s level of education\n",
    "\n",
    "- Education - customer’s level of education\n",
    "- MaritalStatus - customer’s marital status\n",
    "- Income - customer’s yearly household income\n",
    "- Kidhome - number of small children in customer’s household\n",
    "- Teenhome - number of teenagers in customer’s household\n",
    "- DtCustomer - date of customer’s enrolment with the company\n",
    "- MntFishProducts - amount spent on fish products in the last 2 years\n",
    "- MntMeatProducts - amount spent on meat products in the last 2 years\n",
    "- MntFruits - amount spent on fruits products in the last 2 years\n",
    "- MntSweetProducts - amount spent on sweet products in the last 2 years\n",
    "- MntWines - amount spent on wine products in the last 2 years\n",
    "- MntGoldProds - amount spent on gold products in the last 2 years\n",
    "- NumDealsPurchases - number of purchases made with discount\n",
    "- NumCatalogPurchases - number of purchases made using catalogue\n",
    "- NumStorePurchases - number of purchases made directly in stores\n",
    "- NumWebPurchases - number of purchases made through company’s web site\n",
    "- NumWebVisitsMonth - number of visits to company’s web site in the last month\n",
    "- Recency - number of days since the last purchase\n",
    "- AcceptedCmp1 - 1 if customer accepted the offer in the 1st campaign, 0 otherwise\n",
    "- AcceptedCmp2 - 1 if customer accepted the offer in the 2nd campaign, 0 otherwise\n",
    "- AcceptedCmp3 - 1 if customer accepted the offer in the 3rd campaign, 0 otherwise\n",
    "- AcceptedCmp4 - 1 if customer accepted the offer in the 4th campaign, 0 otherwise\n",
    "- AcceptedCmp5 - 1 if customer accepted the offer in the 5th campaign, 0 otherwise\n",
    "- Complain - 1 if customer complained in the last 2 years\n",
    "- Response (target) - 1 if customer accepted the offer in the last campaign, 0 otherwise\n",
    "The data can be found in the link: https://www.kaggle.com/rodsaldanha/arketing-campaign"
   ]
  },
  {
   "cell_type": "markdown",
   "id": "0ee3e041",
   "metadata": {},
   "source": [
    "### Setup"
   ]
  },
  {
   "cell_type": "code",
   "execution_count": 2,
   "id": "f2fe6251",
   "metadata": {},
   "outputs": [],
   "source": [
    "# importing relevant libraries\n",
    "import pandas as pd\n",
    "import numpy as np\n",
    "import itertools\n",
    "from sklearn.impute import KNNImputer\n",
    "from sklearn.preprocessing import StandardScaler\n",
    "from sklearn.model_selection import train_test_split\n",
    "import matplotlib.pyplot as plt\n",
    "import seaborn as sns\n",
    "from sklearn import metrics\n",
    "from sklearn.metrics import accuracy_score\n",
    "from sklearn.model_selection import GridSearchCV\n",
    "from sklearn.linear_model import LogisticRegression\n",
    "from sklearn.neighbors import KNeighborsClassifier\n",
    "from sklearn.discriminant_analysis import LinearDiscriminantAnalysis, QuadraticDiscriminantAnalysis\n",
    "from sklearn import tree\n",
    "from sklearn.ensemble import BaggingClassifier, RandomForestClassifier, GradientBoostingClassifier\n",
    "from sklearn.svm import SVC"
   ]
  },
  {
   "cell_type": "code",
   "execution_count": 3,
   "id": "af91760f",
   "metadata": {},
   "outputs": [],
   "source": [
    "# importing the data\n",
    "data = pd.read_csv('.\marketing_campaign.csv', sep=';')"
   ]
  },
  {
   "cell_type": "code",
   "execution_count": 4,
   "id": "03a094e6",
   "metadata": {},
   "outputs": [
    {
     "data": {
      "text/html": [
       "<div>\n",
       "<style scoped>\n",
       "    .dataframe tbody tr th:only-of-type {\n",
       "        vertical-align: middle;\n",
       "    }\n",
       "\n",
       "    .dataframe tbody tr th {\n",
       "        vertical-align: top;\n",
       "    }\n",
       "\n",
       "    .dataframe thead th {\n",
       "        text-align: right;\n",
       "    }\n",
       "</style>\n",
       "<table border=\"1\" class=\"dataframe\">\n",
       "  <thead>\n",
       "    <tr style=\"text-align: right;\">\n",
       "      <th></th>\n",
       "      <th>ID</th>\n",
       "      <th>Year_Birth</th>\n",
       "      <th>Education</th>\n",
       "      <th>Marital_Status</th>\n",
       "      <th>Income</th>\n",
       "      <th>Kidhome</th>\n",
       "      <th>Teenhome</th>\n",
       "      <th>Dt_Customer</th>\n",
       "      <th>Recency</th>\n",
       "      <th>MntWines</th>\n",
       "      <th>...</th>\n",
       "      <th>NumWebVisitsMonth</th>\n",
       "      <th>AcceptedCmp3</th>\n",
       "      <th>AcceptedCmp4</th>\n",
       "      <th>AcceptedCmp5</th>\n",
       "      <th>AcceptedCmp1</th>\n",
       "      <th>AcceptedCmp2</th>\n",
       "      <th>Complain</th>\n",
       "      <th>Z_CostContact</th>\n",
       "      <th>Z_Revenue</th>\n",
       "      <th>Response</th>\n",
       "    </tr>\n",
       "  </thead>\n",
       "  <tbody>\n",
       "    <tr>\n",
       "      <th>0</th>\n",
       "      <td>5524</td>\n",
       "      <td>1957</td>\n",
       "      <td>Graduation</td>\n",
       "      <td>Single</td>\n",
       "      <td>58138.0</td>\n",
       "      <td>0</td>\n",
       "      <td>0</td>\n",
       "      <td>2012-09-04</td>\n",
       "      <td>58</td>\n",
       "      <td>635</td>\n",
       "      <td>...</td>\n",
       "      <td>7</td>\n",
       "      <td>0</td>\n",
       "      <td>0</td>\n",
       "      <td>0</td>\n",
       "      <td>0</td>\n",
       "      <td>0</td>\n",
       "      <td>0</td>\n",
       "      <td>3</td>\n",
       "      <td>11</td>\n",
       "      <td>1</td>\n",
       "    </tr>\n",
       "    <tr>\n",
       "      <th>1</th>\n",
       "      <td>2174</td>\n",
       "      <td>1954</td>\n",
       "      <td>Graduation</td>\n",
       "      <td>Single</td>\n",
       "      <td>46344.0</td>\n",
       "      <td>1</td>\n",
       "      <td>1</td>\n",
       "      <td>2014-03-08</td>\n",
       "      <td>38</td>\n",
       "      <td>11</td>\n",
       "      <td>...</td>\n",
       "      <td>5</td>\n",
       "      <td>0</td>\n",
       "      <td>0</td>\n",
       "      <td>0</td>\n",
       "      <td>0</td>\n",
       "      <td>0</td>\n",
       "      <td>0</td>\n",
       "      <td>3</td>\n",
       "      <td>11</td>\n",
       "      <td>0</td>\n",
       "    </tr>\n",
       "    <tr>\n",
       "      <th>2</th>\n",
       "      <td>4141</td>\n",
       "      <td>1965</td>\n",
       "      <td>Graduation</td>\n",
       "      <td>Together</td>\n",
       "      <td>71613.0</td>\n",
       "      <td>0</td>\n",
       "      <td>0</td>\n",
       "      <td>2013-08-21</td>\n",
       "      <td>26</td>\n",
       "      <td>426</td>\n",
       "      <td>...</td>\n",
       "      <td>4</td>\n",
       "      <td>0</td>\n",
       "      <td>0</td>\n",
       "      <td>0</td>\n",
       "      <td>0</td>\n",
       "      <td>0</td>\n",
       "      <td>0</td>\n",
       "      <td>3</td>\n",
       "      <td>11</td>\n",
       "      <td>0</td>\n",
       "    </tr>\n",
       "    <tr>\n",
       "      <th>3</th>\n",
       "      <td>6182</td>\n",
       "      <td>1984</td>\n",
       "      <td>Graduation</td>\n",
       "      <td>Together</td>\n",
       "      <td>26646.0</td>\n",
       "      <td>1</td>\n",
       "      <td>0</td>\n",
       "      <td>2014-02-10</td>\n",
       "      <td>26</td>\n",
       "      <td>11</td>\n",
       "      <td>...</td>\n",
       "      <td>6</td>\n",
       "      <td>0</td>\n",
       "      <td>0</td>\n",
       "      <td>0</td>\n",
       "      <td>0</td>\n",
       "      <td>0</td>\n",
       "      <td>0</td>\n",
       "      <td>3</td>\n",
       "      <td>11</td>\n",
       "      <td>0</td>\n",
       "    </tr>\n",
       "    <tr>\n",
       "      <th>4</th>\n",
       "      <td>5324</td>\n",
       "      <td>1981</td>\n",
       "      <td>PhD</td>\n",
       "      <td>Married</td>\n",
       "      <td>58293.0</td>\n",
       "      <td>1</td>\n",
       "      <td>0</td>\n",
       "      <td>2014-01-19</td>\n",
       "      <td>94</td>\n",
       "      <td>173</td>\n",
       "      <td>...</td>\n",
       "      <td>5</td>\n",
       "      <td>0</td>\n",
       "      <td>0</td>\n",
       "      <td>0</td>\n",
       "      <td>0</td>\n",
       "      <td>0</td>\n",
       "      <td>0</td>\n",
       "      <td>3</td>\n",
       "      <td>11</td>\n",
       "      <td>0</td>\n",
       "    </tr>\n",
       "  </tbody>\n",
       "</table>\n",
       "<p>5 rows × 29 columns</p>\n",
       "</div>"
      ],
      "text/plain": [
       "     ID  Year_Birth   Education Marital_Status   Income  Kidhome  Teenhome  \\\n",
       "0  5524        1957  Graduation         Single  58138.0        0         0   \n",
       "1  2174        1954  Graduation         Single  46344.0        1         1   \n",
       "2  4141        1965  Graduation       Together  71613.0        0         0   \n",
       "3  6182        1984  Graduation       Together  26646.0        1         0   \n",
       "4  5324        1981         PhD        Married  58293.0        1         0   \n",
       "\n",
       "  Dt_Customer  Recency  MntWines  ...  NumWebVisitsMonth  AcceptedCmp3  \\\n",
       "0  2012-09-04       58       635  ...                  7             0   \n",
       "1  2014-03-08       38        11  ...                  5             0   \n",
       "2  2013-08-21       26       426  ...                  4             0   \n",
       "3  2014-02-10       26        11  ...                  6             0   \n",
       "4  2014-01-19       94       173  ...                  5             0   \n",
       "\n",
       "   AcceptedCmp4  AcceptedCmp5  AcceptedCmp1  AcceptedCmp2  Complain  \\\n",
       "0             0             0             0             0         0   \n",
       "1             0             0             0             0         0   \n",
       "2             0             0             0             0         0   \n",
       "3             0             0             0             0         0   \n",
       "4             0             0             0             0         0   \n",
       "\n",
       "   Z_CostContact  Z_Revenue  Response  \n",
       "0              3         11         1  \n",
       "1              3         11         0  \n",
       "2              3         11         0  \n",
       "3              3         11         0  \n",
       "4              3         11         0  \n",
       "\n",
       "[5 rows x 29 columns]"
      ]
     },
     "execution_count": 4,
     "metadata": {},
     "output_type": "execute_result"
    }
   ],
   "source": [
    "data.head(5)"
   ]
  },
  {
   "cell_type": "code",
   "execution_count": 5,
   "id": "21a06838",
   "metadata": {},
   "outputs": [
    {
     "data": {
      "text/html": [
       "<div>\n",
       "<style scoped>\n",
       "    .dataframe tbody tr th:only-of-type {\n",
       "        vertical-align: middle;\n",
       "    }\n",
       "\n",
       "    .dataframe tbody tr th {\n",
       "        vertical-align: top;\n",
       "    }\n",
       "\n",
       "    .dataframe thead th {\n",
       "        text-align: right;\n",
       "    }\n",
       "</style>\n",
       "<table border=\"1\" class=\"dataframe\">\n",
       "  <thead>\n",
       "    <tr style=\"text-align: right;\">\n",
       "      <th></th>\n",
       "      <th>ID</th>\n",
       "      <th>Year_Birth</th>\n",
       "      <th>Education</th>\n",
       "      <th>Marital_Status</th>\n",
       "      <th>Income</th>\n",
       "      <th>Kidhome</th>\n",
       "      <th>Teenhome</th>\n",
       "      <th>Dt_Customer</th>\n",
       "      <th>Recency</th>\n",
       "      <th>MntWines</th>\n",
       "      <th>...</th>\n",
       "      <th>NumWebVisitsMonth</th>\n",
       "      <th>AcceptedCmp3</th>\n",
       "      <th>AcceptedCmp4</th>\n",
       "      <th>AcceptedCmp5</th>\n",
       "      <th>AcceptedCmp1</th>\n",
       "      <th>AcceptedCmp2</th>\n",
       "      <th>Complain</th>\n",
       "      <th>Z_CostContact</th>\n",
       "      <th>Z_Revenue</th>\n",
       "      <th>Response</th>\n",
       "    </tr>\n",
       "  </thead>\n",
       "  <tbody>\n",
       "    <tr>\n",
       "      <th>count</th>\n",
       "      <td>2240.000000</td>\n",
       "      <td>2240.000000</td>\n",
       "      <td>2240</td>\n",
       "      <td>2240</td>\n",
       "      <td>2216.000000</td>\n",
       "      <td>2240.000000</td>\n",
       "      <td>2240.000000</td>\n",
       "      <td>2240</td>\n",
       "      <td>2240.000000</td>\n",
       "      <td>2240.000000</td>\n",
       "      <td>...</td>\n",
       "      <td>2240.000000</td>\n",
       "      <td>2240.000000</td>\n",
       "      <td>2240.000000</td>\n",
       "      <td>2240.000000</td>\n",
       "      <td>2240.000000</td>\n",
       "      <td>2240.000000</td>\n",
       "      <td>2240.000000</td>\n",
       "      <td>2240.0</td>\n",
       "      <td>2240.0</td>\n",
       "      <td>2240.000000</td>\n",
       "    </tr>\n",
       "    <tr>\n",
       "      <th>unique</th>\n",
       "      <td>NaN</td>\n",
       "      <td>NaN</td>\n",
       "      <td>5</td>\n",
       "      <td>8</td>\n",
       "      <td>NaN</td>\n",
       "      <td>NaN</td>\n",
       "      <td>NaN</td>\n",
       "      <td>663</td>\n",
       "      <td>NaN</td>\n",
       "      <td>NaN</td>\n",
       "      <td>...</td>\n",
       "      <td>NaN</td>\n",
       "      <td>NaN</td>\n",
       "      <td>NaN</td>\n",
       "      <td>NaN</td>\n",
       "      <td>NaN</td>\n",
       "      <td>NaN</td>\n",
       "      <td>NaN</td>\n",
       "      <td>NaN</td>\n",
       "      <td>NaN</td>\n",
       "      <td>NaN</td>\n",
       "    </tr>\n",
       "    <tr>\n",
       "      <th>top</th>\n",
       "      <td>NaN</td>\n",
       "      <td>NaN</td>\n",
       "      <td>Graduation</td>\n",
       "      <td>Married</td>\n",
       "      <td>NaN</td>\n",
       "      <td>NaN</td>\n",
       "      <td>NaN</td>\n",
       "      <td>2012-08-31</td>\n",
       "      <td>NaN</td>\n",
       "      <td>NaN</td>\n",
       "      <td>...</td>\n",
       "      <td>NaN</td>\n",
       "      <td>NaN</td>\n",
       "      <td>NaN</td>\n",
       "      <td>NaN</td>\n",
       "      <td>NaN</td>\n",
       "      <td>NaN</td>\n",
       "      <td>NaN</td>\n",
       "      <td>NaN</td>\n",
       "      <td>NaN</td>\n",
       "      <td>NaN</td>\n",
       "    </tr>\n",
       "    <tr>\n",
       "      <th>freq</th>\n",
       "      <td>NaN</td>\n",
       "      <td>NaN</td>\n",
       "      <td>1127</td>\n",
       "      <td>864</td>\n",
       "      <td>NaN</td>\n",
       "      <td>NaN</td>\n",
       "      <td>NaN</td>\n",
       "      <td>12</td>\n",
       "      <td>NaN</td>\n",
       "      <td>NaN</td>\n",
       "      <td>...</td>\n",
       "      <td>NaN</td>\n",
       "      <td>NaN</td>\n",
       "      <td>NaN</td>\n",
       "      <td>NaN</td>\n",
       "      <td>NaN</td>\n",
       "      <td>NaN</td>\n",
       "      <td>NaN</td>\n",
       "      <td>NaN</td>\n",
       "      <td>NaN</td>\n",
       "      <td>NaN</td>\n",
       "    </tr>\n",
       "    <tr>\n",
       "      <th>mean</th>\n",
       "      <td>5592.159821</td>\n",
       "      <td>1968.805804</td>\n",
       "      <td>NaN</td>\n",
       "      <td>NaN</td>\n",
       "      <td>52247.251354</td>\n",
       "      <td>0.444196</td>\n",
       "      <td>0.506250</td>\n",
       "      <td>NaN</td>\n",
       "      <td>49.109375</td>\n",
       "      <td>303.935714</td>\n",
       "      <td>...</td>\n",
       "      <td>5.316518</td>\n",
       "      <td>0.072768</td>\n",
       "      <td>0.074554</td>\n",
       "      <td>0.072768</td>\n",
       "      <td>0.064286</td>\n",
       "      <td>0.013393</td>\n",
       "      <td>0.009375</td>\n",
       "      <td>3.0</td>\n",
       "      <td>11.0</td>\n",
       "      <td>0.149107</td>\n",
       "    </tr>\n",
       "    <tr>\n",
       "      <th>std</th>\n",
       "      <td>3246.662198</td>\n",
       "      <td>11.984069</td>\n",
       "      <td>NaN</td>\n",
       "      <td>NaN</td>\n",
       "      <td>25173.076661</td>\n",
       "      <td>0.538398</td>\n",
       "      <td>0.544538</td>\n",
       "      <td>NaN</td>\n",
       "      <td>28.962453</td>\n",
       "      <td>336.597393</td>\n",
       "      <td>...</td>\n",
       "      <td>2.426645</td>\n",
       "      <td>0.259813</td>\n",
       "      <td>0.262728</td>\n",
       "      <td>0.259813</td>\n",
       "      <td>0.245316</td>\n",
       "      <td>0.114976</td>\n",
       "      <td>0.096391</td>\n",
       "      <td>0.0</td>\n",
       "      <td>0.0</td>\n",
       "      <td>0.356274</td>\n",
       "    </tr>\n",
       "    <tr>\n",
       "      <th>min</th>\n",
       "      <td>0.000000</td>\n",
       "      <td>1893.000000</td>\n",
       "      <td>NaN</td>\n",
       "      <td>NaN</td>\n",
       "      <td>1730.000000</td>\n",
       "      <td>0.000000</td>\n",
       "      <td>0.000000</td>\n",
       "      <td>NaN</td>\n",
       "      <td>0.000000</td>\n",
       "      <td>0.000000</td>\n",
       "      <td>...</td>\n",
       "      <td>0.000000</td>\n",
       "      <td>0.000000</td>\n",
       "      <td>0.000000</td>\n",
       "      <td>0.000000</td>\n",
       "      <td>0.000000</td>\n",
       "      <td>0.000000</td>\n",
       "      <td>0.000000</td>\n",
       "      <td>3.0</td>\n",
       "      <td>11.0</td>\n",
       "      <td>0.000000</td>\n",
       "    </tr>\n",
       "    <tr>\n",
       "      <th>25%</th>\n",
       "      <td>2828.250000</td>\n",
       "      <td>1959.000000</td>\n",
       "      <td>NaN</td>\n",
       "      <td>NaN</td>\n",
       "      <td>35303.000000</td>\n",
       "      <td>0.000000</td>\n",
       "      <td>0.000000</td>\n",
       "      <td>NaN</td>\n",
       "      <td>24.000000</td>\n",
       "      <td>23.750000</td>\n",
       "      <td>...</td>\n",
       "      <td>3.000000</td>\n",
       "      <td>0.000000</td>\n",
       "      <td>0.000000</td>\n",
       "      <td>0.000000</td>\n",
       "      <td>0.000000</td>\n",
       "      <td>0.000000</td>\n",
       "      <td>0.000000</td>\n",
       "      <td>3.0</td>\n",
       "      <td>11.0</td>\n",
       "      <td>0.000000</td>\n",
       "    </tr>\n",
       "    <tr>\n",
       "      <th>50%</th>\n",
       "      <td>5458.500000</td>\n",
       "      <td>1970.000000</td>\n",
       "      <td>NaN</td>\n",
       "      <td>NaN</td>\n",
       "      <td>51381.500000</td>\n",
       "      <td>0.000000</td>\n",
       "      <td>0.000000</td>\n",
       "      <td>NaN</td>\n",
       "      <td>49.000000</td>\n",
       "      <td>173.500000</td>\n",
       "      <td>...</td>\n",
       "      <td>6.000000</td>\n",
       "      <td>0.000000</td>\n",
       "      <td>0.000000</td>\n",
       "      <td>0.000000</td>\n",
       "      <td>0.000000</td>\n",
       "      <td>0.000000</td>\n",
       "      <td>0.000000</td>\n",
       "      <td>3.0</td>\n",
       "      <td>11.0</td>\n",
       "      <td>0.000000</td>\n",
       "    </tr>\n",
       "    <tr>\n",
       "      <th>75%</th>\n",
       "      <td>8427.750000</td>\n",
       "      <td>1977.000000</td>\n",
       "      <td>NaN</td>\n",
       "      <td>NaN</td>\n",
       "      <td>68522.000000</td>\n",
       "      <td>1.000000</td>\n",
       "      <td>1.000000</td>\n",
       "      <td>NaN</td>\n",
       "      <td>74.000000</td>\n",
       "      <td>504.250000</td>\n",
       "      <td>...</td>\n",
       "      <td>7.000000</td>\n",
       "      <td>0.000000</td>\n",
       "      <td>0.000000</td>\n",
       "      <td>0.000000</td>\n",
       "      <td>0.000000</td>\n",
       "      <td>0.000000</td>\n",
       "      <td>0.000000</td>\n",
       "      <td>3.0</td>\n",
       "      <td>11.0</td>\n",
       "      <td>0.000000</td>\n",
       "    </tr>\n",
       "    <tr>\n",
       "      <th>max</th>\n",
       "      <td>11191.000000</td>\n",
       "      <td>1996.000000</td>\n",
       "      <td>NaN</td>\n",
       "      <td>NaN</td>\n",
       "      <td>666666.000000</td>\n",
       "      <td>2.000000</td>\n",
       "      <td>2.000000</td>\n",
       "      <td>NaN</td>\n",
       "      <td>99.000000</td>\n",
       "      <td>1493.000000</td>\n",
       "      <td>...</td>\n",
       "      <td>20.000000</td>\n",
       "      <td>1.000000</td>\n",
       "      <td>1.000000</td>\n",
       "      <td>1.000000</td>\n",
       "      <td>1.000000</td>\n",
       "      <td>1.000000</td>\n",
       "      <td>1.000000</td>\n",
       "      <td>3.0</td>\n",
       "      <td>11.0</td>\n",
       "      <td>1.000000</td>\n",
       "    </tr>\n",
       "  </tbody>\n",
       "</table>\n",
       "<p>11 rows × 29 columns</p>\n",
       "</div>"
      ],
      "text/plain": [
       "                  ID   Year_Birth   Education Marital_Status         Income  \\\n",
       "count    2240.000000  2240.000000        2240           2240    2216.000000   \n",
       "unique           NaN          NaN           5              8            NaN   \n",
       "top              NaN          NaN  Graduation        Married            NaN   \n",
       "freq             NaN          NaN        1127            864            NaN   \n",
       "mean     5592.159821  1968.805804         NaN            NaN   52247.251354   \n",
       "std      3246.662198    11.984069         NaN            NaN   25173.076661   \n",
       "min         0.000000  1893.000000         NaN            NaN    1730.000000   \n",
       "25%      2828.250000  1959.000000         NaN            NaN   35303.000000   \n",
       "50%      5458.500000  1970.000000         NaN            NaN   51381.500000   \n",
       "75%      8427.750000  1977.000000         NaN            NaN   68522.000000   \n",
       "max     11191.000000  1996.000000         NaN            NaN  666666.000000   \n",
       "\n",
       "            Kidhome     Teenhome Dt_Customer      Recency     MntWines  ...  \\\n",
       "count   2240.000000  2240.000000        2240  2240.000000  2240.000000  ...   \n",
       "unique          NaN          NaN         663          NaN          NaN  ...   \n",
       "top             NaN          NaN  2012-08-31          NaN          NaN  ...   \n",
       "freq            NaN          NaN          12          NaN          NaN  ...   \n",
       "mean       0.444196     0.506250         NaN    49.109375   303.935714  ...   \n",
       "std        0.538398     0.544538         NaN    28.962453   336.597393  ...   \n",
       "min        0.000000     0.000000         NaN     0.000000     0.000000  ...   \n",
       "25%        0.000000     0.000000         NaN    24.000000    23.750000  ...   \n",
       "50%        0.000000     0.000000         NaN    49.000000   173.500000  ...   \n",
       "75%        1.000000     1.000000         NaN    74.000000   504.250000  ...   \n",
       "max        2.000000     2.000000         NaN    99.000000  1493.000000  ...   \n",
       "\n",
       "        NumWebVisitsMonth  AcceptedCmp3  AcceptedCmp4  AcceptedCmp5  \\\n",
       "count         2240.000000   2240.000000   2240.000000   2240.000000   \n",
       "unique                NaN           NaN           NaN           NaN   \n",
       "top                   NaN           NaN           NaN           NaN   \n",
       "freq                  NaN           NaN           NaN           NaN   \n",
       "mean             5.316518      0.072768      0.074554      0.072768   \n",
       "std              2.426645      0.259813      0.262728      0.259813   \n",
       "min              0.000000      0.000000      0.000000      0.000000   \n",
       "25%              3.000000      0.000000      0.000000      0.000000   \n",
       "50%              6.000000      0.000000      0.000000      0.000000   \n",
       "75%              7.000000      0.000000      0.000000      0.000000   \n",
       "max             20.000000      1.000000      1.000000      1.000000   \n",
       "\n",
       "        AcceptedCmp1  AcceptedCmp2     Complain  Z_CostContact  Z_Revenue  \\\n",
       "count    2240.000000   2240.000000  2240.000000         2240.0     2240.0   \n",
       "unique           NaN           NaN          NaN            NaN        NaN   \n",
       "top              NaN           NaN          NaN            NaN        NaN   \n",
       "freq             NaN           NaN          NaN            NaN        NaN   \n",
       "mean        0.064286      0.013393     0.009375            3.0       11.0   \n",
       "std         0.245316      0.114976     0.096391            0.0        0.0   \n",
       "min         0.000000      0.000000     0.000000            3.0       11.0   \n",
       "25%         0.000000      0.000000     0.000000            3.0       11.0   \n",
       "50%         0.000000      0.000000     0.000000            3.0       11.0   \n",
       "75%         0.000000      0.000000     0.000000            3.0       11.0   \n",
       "max         1.000000      1.000000     1.000000            3.0       11.0   \n",
       "\n",
       "           Response  \n",
       "count   2240.000000  \n",
       "unique          NaN  \n",
       "top             NaN  \n",
       "freq            NaN  \n",
       "mean       0.149107  \n",
       "std        0.356274  \n",
       "min        0.000000  \n",
       "25%        0.000000  \n",
       "50%        0.000000  \n",
       "75%        0.000000  \n",
       "max        1.000000  \n",
       "\n",
       "[11 rows x 29 columns]"
      ]
     },
     "execution_count": 5,
     "metadata": {},
     "output_type": "execute_result"
    }
   ],
   "source": [
    "data.describe(include='all')"
   ]
  },
  {
   "cell_type": "markdown",
   "id": "392db24b",
   "metadata": {},
   "source": [
    "## Feature Engineering"
   ]
  },
  {
   "cell_type": "markdown",
   "id": "528431a9",
   "metadata": {},
   "source": [
    "### Data Cleaning"
   ]
  },
  {
   "cell_type": "markdown",
   "id": "b75690c1",
   "metadata": {},
   "source": [
    "The following variables contain only one value and therefore will be dropped."
   ]
  },
  {
   "cell_type": "code",
   "execution_count": 6,
   "id": "40e1311d",
   "metadata": {},
   "outputs": [
    {
     "data": {
      "text/plain": [
       "array([3], dtype=int64)"
      ]
     },
     "execution_count": 6,
     "metadata": {},
     "output_type": "execute_result"
    }
   ],
   "source": [
    "data['Z_CostContact'].unique()"
   ]
  },
  {
   "cell_type": "code",
   "execution_count": 7,
   "id": "9930f224",
   "metadata": {},
   "outputs": [
    {
     "data": {
      "text/plain": [
       "array([11], dtype=int64)"
      ]
     },
     "execution_count": 7,
     "metadata": {},
     "output_type": "execute_result"
    }
   ],
   "source": [
    "data['Z_Revenue'].unique()"
   ]
  },
  {
   "cell_type": "code",
   "execution_count": 8,
   "id": "7b84f3ea",
   "metadata": {},
   "outputs": [],
   "source": [
    "data.drop(['Z_CostContact', 'Z_Revenue'], axis=1, inplace=True)"
   ]
  },
  {
   "cell_type": "markdown",
   "id": "9b14c2ca",
   "metadata": {},
   "source": [
    "### Handling Outliers"
   ]
  },
  {
   "cell_type": "markdown",
   "id": "388fcc33",
   "metadata": {},
   "source": [
    "The Income variable has an outlier (value equal to 666666) which seems unlikely. I will replace this value with NA and fill it later using imputation."
   ]
  },
  {
   "cell_type": "code",
   "execution_count": 9,
   "id": "7935d0e3",
   "metadata": {},
   "outputs": [],
   "source": [
    "data[\"Income\"].replace({666666: None}, inplace=True)"
   ]
  },
  {
   "cell_type": "markdown",
   "id": "f2c96352",
   "metadata": {},
   "source": [
    "The Marital Status variable has a few observations with the values: \"YOLO\", \"Alone\" and \"Absurd\". We will replace these observations with the value \"Other\"."
   ]
  },
  {
   "cell_type": "code",
   "execution_count": 10,
   "id": "f138f4ce",
   "metadata": {},
   "outputs": [],
   "source": [
    "data[\"Marital_Status\"].replace({'YOLO': 'Other', 'Alone': 'Other', 'Absurd': 'Other'}, inplace=True)"
   ]
  },
  {
   "cell_type": "markdown",
   "id": "df9d073f",
   "metadata": {},
   "source": [
    "### Grouping"
   ]
  },
  {
   "cell_type": "markdown",
   "id": "d3f8efbd",
   "metadata": {},
   "source": [
    "The variables that describe whether a customer accepted an offer in previous campaigns seem to be equal in many observations, which leads to a collinearity issue. Therefore, I will create a variable that represents the total number of offers that a costumer accepted."
   ]
  },
  {
   "cell_type": "code",
   "execution_count": 11,
   "id": "56ce71db",
   "metadata": {},
   "outputs": [
    {
     "data": {
      "text/html": [
       "<div>\n",
       "<style scoped>\n",
       "    .dataframe tbody tr th:only-of-type {\n",
       "        vertical-align: middle;\n",
       "    }\n",
       "\n",
       "    .dataframe tbody tr th {\n",
       "        vertical-align: top;\n",
       "    }\n",
       "\n",
       "    .dataframe thead th {\n",
       "        text-align: right;\n",
       "    }\n",
       "</style>\n",
       "<table border=\"1\" class=\"dataframe\">\n",
       "  <thead>\n",
       "    <tr style=\"text-align: right;\">\n",
       "      <th></th>\n",
       "      <th>Campaign A</th>\n",
       "      <th>Campaign B</th>\n",
       "      <th>Equal</th>\n",
       "    </tr>\n",
       "  </thead>\n",
       "  <tbody>\n",
       "    <tr>\n",
       "      <th>0</th>\n",
       "      <td>AcceptedCmp1</td>\n",
       "      <td>AcceptedCmp2</td>\n",
       "      <td>2092</td>\n",
       "    </tr>\n",
       "    <tr>\n",
       "      <th>1</th>\n",
       "      <td>AcceptedCmp1</td>\n",
       "      <td>AcceptedCmp3</td>\n",
       "      <td>1981</td>\n",
       "    </tr>\n",
       "    <tr>\n",
       "      <th>2</th>\n",
       "      <td>AcceptedCmp1</td>\n",
       "      <td>AcceptedCmp4</td>\n",
       "      <td>2023</td>\n",
       "    </tr>\n",
       "    <tr>\n",
       "      <th>3</th>\n",
       "      <td>AcceptedCmp1</td>\n",
       "      <td>AcceptedCmp5</td>\n",
       "      <td>2069</td>\n",
       "    </tr>\n",
       "    <tr>\n",
       "      <th>4</th>\n",
       "      <td>AcceptedCmp2</td>\n",
       "      <td>AcceptedCmp3</td>\n",
       "      <td>2061</td>\n",
       "    </tr>\n",
       "    <tr>\n",
       "      <th>5</th>\n",
       "      <td>AcceptedCmp2</td>\n",
       "      <td>AcceptedCmp4</td>\n",
       "      <td>2087</td>\n",
       "    </tr>\n",
       "    <tr>\n",
       "      <th>6</th>\n",
       "      <td>AcceptedCmp2</td>\n",
       "      <td>AcceptedCmp5</td>\n",
       "      <td>2081</td>\n",
       "    </tr>\n",
       "    <tr>\n",
       "      <th>7</th>\n",
       "      <td>AcceptedCmp3</td>\n",
       "      <td>AcceptedCmp4</td>\n",
       "      <td>1910</td>\n",
       "    </tr>\n",
       "    <tr>\n",
       "      <th>8</th>\n",
       "      <td>AcceptedCmp3</td>\n",
       "      <td>AcceptedCmp5</td>\n",
       "      <td>1962</td>\n",
       "    </tr>\n",
       "    <tr>\n",
       "      <th>9</th>\n",
       "      <td>AcceptedCmp4</td>\n",
       "      <td>AcceptedCmp5</td>\n",
       "      <td>2028</td>\n",
       "    </tr>\n",
       "  </tbody>\n",
       "</table>\n",
       "</div>"
      ],
      "text/plain": [
       "     Campaign A    Campaign B  Equal\n",
       "0  AcceptedCmp1  AcceptedCmp2   2092\n",
       "1  AcceptedCmp1  AcceptedCmp3   1981\n",
       "2  AcceptedCmp1  AcceptedCmp4   2023\n",
       "3  AcceptedCmp1  AcceptedCmp5   2069\n",
       "4  AcceptedCmp2  AcceptedCmp3   2061\n",
       "5  AcceptedCmp2  AcceptedCmp4   2087\n",
       "6  AcceptedCmp2  AcceptedCmp5   2081\n",
       "7  AcceptedCmp3  AcceptedCmp4   1910\n",
       "8  AcceptedCmp3  AcceptedCmp5   1962\n",
       "9  AcceptedCmp4  AcceptedCmp5   2028"
      ]
     },
     "execution_count": 11,
     "metadata": {},
     "output_type": "execute_result"
    }
   ],
   "source": [
    "result = pd.DataFrame(list(itertools.combinations(\n",
    "    data[['AcceptedCmp1', 'AcceptedCmp2', 'AcceptedCmp3', 'AcceptedCmp4', 'AcceptedCmp5']], 2)), columns=['Campaign A', 'Campaign B'])\n",
    "rez = []\n",
    "for index, row in result.iterrows(): \n",
    "    rez.append(sum(data[row[0]] == data[row[1]]))\n",
    "result['Equal'] = rez\n",
    "result.head(10)"
   ]
  },
  {
   "cell_type": "code",
   "execution_count": 12,
   "id": "d2d8ba06",
   "metadata": {},
   "outputs": [],
   "source": [
    "accepted = data[['AcceptedCmp1', 'AcceptedCmp2', 'AcceptedCmp3', 'AcceptedCmp4', 'AcceptedCmp5']]\n",
    "data['AcceptedTotal'] = accepted.sum(axis=1)\n",
    "data.drop(['AcceptedCmp1', 'AcceptedCmp2', 'AcceptedCmp3', 'AcceptedCmp4', 'AcceptedCmp5'], axis=1, inplace=True)"
   ]
  },
  {
   "cell_type": "markdown",
   "id": "92553b97",
   "metadata": {},
   "source": [
    "### Splitting"
   ]
  },
  {
   "cell_type": "markdown",
   "id": "6218f243",
   "metadata": {},
   "source": [
    "The feature \"Dt_Costumer\", which is the date of a customer’s enrolment with the company, will be parsed. I decided to only use the enrolment month because all customers enrolled around the same year."
   ]
  },
  {
   "cell_type": "code",
   "execution_count": 13,
   "id": "dd81cdb9",
   "metadata": {},
   "outputs": [],
   "source": [
    "dates = data.Dt_Customer.values\n",
    "month = [date.split(\"-\")[1] for date in dates]\n",
    "data['Costumer_Month'] = month\n",
    "data.drop(['Dt_Customer'], axis=1, inplace=True)"
   ]
  },
  {
   "cell_type": "markdown",
   "id": "fbe63b90",
   "metadata": {},
   "source": [
    "### One-Hot Encoding"
   ]
  },
  {
   "cell_type": "code",
   "execution_count": 14,
   "id": "a0597f76",
   "metadata": {},
   "outputs": [],
   "source": [
    "features = data.copy()\n",
    "Educ = pd.get_dummies(data['Education'], drop_first=True)\n",
    "Status = pd.get_dummies(data['Marital_Status'], drop_first=True)\n",
    "features.drop(['ID', 'Education', 'Marital_Status'], axis=1, inplace=True)\n",
    "features = pd.concat([features, Educ, Status], axis=1)\n",
    "label = data['Response'].copy().values.ravel()"
   ]
  },
  {
   "cell_type": "markdown",
   "id": "a76428e6",
   "metadata": {},
   "source": [
    "### Imputation"
   ]
  },
  {
   "cell_type": "markdown",
   "id": "e30e1965",
   "metadata": {},
   "source": [
    "The only feature with missing values is the \"Income\" feature (24 missing values + one value that was dropped)."
   ]
  },
  {
   "cell_type": "code",
   "execution_count": 15,
   "id": "492f8b96",
   "metadata": {},
   "outputs": [
    {
     "data": {
      "text/plain": [
       "Year_Birth              0\n",
       "Income                 25\n",
       "Kidhome                 0\n",
       "Teenhome                0\n",
       "Recency                 0\n",
       "MntWines                0\n",
       "MntFruits               0\n",
       "MntMeatProducts         0\n",
       "MntFishProducts         0\n",
       "MntSweetProducts        0\n",
       "MntGoldProds            0\n",
       "NumDealsPurchases       0\n",
       "NumWebPurchases         0\n",
       "NumCatalogPurchases     0\n",
       "NumStorePurchases       0\n",
       "NumWebVisitsMonth       0\n",
       "Complain                0\n",
       "Response                0\n",
       "AcceptedTotal           0\n",
       "Costumer_Month          0\n",
       "Basic                   0\n",
       "Graduation              0\n",
       "Master                  0\n",
       "PhD                     0\n",
       "Married                 0\n",
       "Other                   0\n",
       "Single                  0\n",
       "Together                0\n",
       "Widow                   0\n",
       "dtype: int64"
      ]
     },
     "execution_count": 15,
     "metadata": {},
     "output_type": "execute_result"
    }
   ],
   "source": [
    "features.isnull().sum()"
   ]
  },
  {
   "cell_type": "markdown",
   "id": "315c7b2a",
   "metadata": {},
   "source": [
    "I will use KNN for imputation."
   ]
  },
  {
   "cell_type": "code",
   "execution_count": 16,
   "id": "408449d7",
   "metadata": {},
   "outputs": [
    {
     "data": {
      "text/plain": [
       "Year_Birth             0\n",
       "Income                 0\n",
       "Kidhome                0\n",
       "Teenhome               0\n",
       "Recency                0\n",
       "MntWines               0\n",
       "MntFruits              0\n",
       "MntMeatProducts        0\n",
       "MntFishProducts        0\n",
       "MntSweetProducts       0\n",
       "MntGoldProds           0\n",
       "NumDealsPurchases      0\n",
       "NumWebPurchases        0\n",
       "NumCatalogPurchases    0\n",
       "NumStorePurchases      0\n",
       "NumWebVisitsMonth      0\n",
       "Complain               0\n",
       "Response               0\n",
       "AcceptedTotal          0\n",
       "Costumer_Month         0\n",
       "Basic                  0\n",
       "Graduation             0\n",
       "Master                 0\n",
       "PhD                    0\n",
       "Married                0\n",
       "Other                  0\n",
       "Single                 0\n",
       "Together               0\n",
       "Widow                  0\n",
       "dtype: int64"
      ]
     },
     "execution_count": 16,
     "metadata": {},
     "output_type": "execute_result"
    }
   ],
   "source": [
    "imputer = KNNImputer(n_neighbors=6, weights=\"uniform\")\n",
    "imputed = imputer.fit_transform(features)\n",
    "features = pd.DataFrame(data=imputed,columns=features.columns)\n",
    "features.isnull().sum()"
   ]
  },
  {
   "cell_type": "markdown",
   "id": "346df0c1",
   "metadata": {},
   "source": [
    "## Data Visualization"
   ]
  },
  {
   "cell_type": "code",
   "execution_count": 17,
   "id": "0aa341e8",
   "metadata": {},
   "outputs": [],
   "source": [
    "# Dividing the data according to the label ('Response')\n",
    "resp0 = data[data['Response'] == 0]\n",
    "resp1 = data[data['Response'] == 1]\n",
    "\n",
    "# legend\n",
    "resp_legend = ['Response = 0', 'Response = 1']"
   ]
  },
  {
   "cell_type": "markdown",
   "id": "91c6017d",
   "metadata": {},
   "source": [
    "### Education feature"
   ]
  },
  {
   "cell_type": "code",
   "execution_count": 18,
   "id": "795130fb",
   "metadata": {},
   "outputs": [
    {
     "data": {
      "image/png": "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\n",
      "text/plain": [
       "<Figure size 576x432 with 1 Axes>"
      ]
     },
     "metadata": {
      "needs_background": "light"
     },
     "output_type": "display_data"
    }
   ],
   "source": [
    "educ0 = pd.DataFrame(resp0['Education'].value_counts().sort_index())\n",
    "educ1 = pd.DataFrame(resp1['Education'].value_counts().sort_index())\n",
    "\n",
    "plt.figure(figsize=(8, 6))\n",
    "plt.bar([1, 2, 3, 4, 5], educ0['Education'], color='#3681c2', edgecolor='white')\n",
    "plt.bar([1, 2, 3, 4, 5], educ1['Education'], bottom=educ0['Education'], color='#adcee6', edgecolor='white')\n",
    "plt.grid(axis='y', alpha=0.5, color='lightgrey')\n",
    "plt.xticks([1, 2, 3, 4, 5], educ0.index, fontsize=8)\n",
    "plt.legend(resp_legend)\n",
    "plt.title('Response Per Education')\n",
    "plt.show()"
   ]
  },
  {
   "cell_type": "markdown",
   "id": "9b5b4699",
   "metadata": {},
   "source": [
    "### Marital Status feature"
   ]
  },
  {
   "cell_type": "code",
   "execution_count": 19,
   "id": "f67bfe1f",
   "metadata": {},
   "outputs": [
    {
     "data": {
      "text/html": [
       "<div>\n",
       "<style scoped>\n",
       "    .dataframe tbody tr th:only-of-type {\n",
       "        vertical-align: middle;\n",
       "    }\n",
       "\n",
       "    .dataframe tbody tr th {\n",
       "        vertical-align: top;\n",
       "    }\n",
       "\n",
       "    .dataframe thead th {\n",
       "        text-align: right;\n",
       "    }\n",
       "</style>\n",
       "<table border=\"1\" class=\"dataframe\">\n",
       "  <thead>\n",
       "    <tr style=\"text-align: right;\">\n",
       "      <th></th>\n",
       "      <th>Response 0</th>\n",
       "      <th>Response 1</th>\n",
       "    </tr>\n",
       "  </thead>\n",
       "  <tbody>\n",
       "    <tr>\n",
       "      <th>Divorced</th>\n",
       "      <td>184</td>\n",
       "      <td>48</td>\n",
       "    </tr>\n",
       "    <tr>\n",
       "      <th>Married</th>\n",
       "      <td>766</td>\n",
       "      <td>98</td>\n",
       "    </tr>\n",
       "    <tr>\n",
       "      <th>Other</th>\n",
       "      <td>4</td>\n",
       "      <td>3</td>\n",
       "    </tr>\n",
       "    <tr>\n",
       "      <th>Single</th>\n",
       "      <td>374</td>\n",
       "      <td>106</td>\n",
       "    </tr>\n",
       "    <tr>\n",
       "      <th>Together</th>\n",
       "      <td>520</td>\n",
       "      <td>60</td>\n",
       "    </tr>\n",
       "    <tr>\n",
       "      <th>Widow</th>\n",
       "      <td>58</td>\n",
       "      <td>19</td>\n",
       "    </tr>\n",
       "  </tbody>\n",
       "</table>\n",
       "</div>"
      ],
      "text/plain": [
       "          Response 0  Response 1\n",
       "Divorced         184          48\n",
       "Married          766          98\n",
       "Other              4           3\n",
       "Single           374         106\n",
       "Together         520          60\n",
       "Widow             58          19"
      ]
     },
     "execution_count": 19,
     "metadata": {},
     "output_type": "execute_result"
    }
   ],
   "source": [
    "status0 = pd.DataFrame(resp0['Marital_Status'].value_counts().sort_index())\n",
    "status1 = pd.DataFrame(resp1['Marital_Status'].value_counts().sort_index())\n",
    "\n",
    "status = pd.concat([status0, status1], axis=1, join=\"inner\")\n",
    "status.columns = ['Response 0', 'Response 1']\n",
    "status"
   ]
  },
  {
   "cell_type": "markdown",
   "id": "cfe05dc5",
   "metadata": {},
   "source": [
    "### Income feature"
   ]
  },
  {
   "cell_type": "code",
   "execution_count": 20,
   "id": "6c58f34f",
   "metadata": {},
   "outputs": [
    {
     "data": {
      "image/png": "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\n",
      "text/plain": [
       "<Figure size 576x432 with 1 Axes>"
      ]
     },
     "metadata": {
      "needs_background": "light"
     },
     "output_type": "display_data"
    }
   ],
   "source": [
    "income0 = pd.DataFrame(resp0['Income'])\n",
    "income1 = pd.DataFrame(resp1['Income'])\n",
    "\n",
    "plt.figure(figsize=(8, 6))\n",
    "sns.boxplot(x=data['Response'], y=features['Income'], palette=['#3681c2', '#adcee6'])\n",
    "plt.yticks(np.arange(0, 200000, 20000))\n",
    "plt.legend('')\n",
    "plt.title('Income')\n",
    "plt.show()"
   ]
  },
  {
   "cell_type": "markdown",
   "id": "aea33221",
   "metadata": {},
   "source": [
    "#### Costumer's Enrolment Month feature"
   ]
  },
  {
   "cell_type": "code",
   "execution_count": 21,
   "id": "36445d32",
   "metadata": {},
   "outputs": [
    {
     "data": {
      "image/png": "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\n",
      "text/plain": [
       "<Figure size 576x432 with 1 Axes>"
      ]
     },
     "metadata": {
      "needs_background": "light"
     },
     "output_type": "display_data"
    }
   ],
   "source": [
    "month0 = pd.DataFrame(resp0['Costumer_Month'].value_counts().sort_index())\n",
    "month1 = pd.DataFrame(resp1['Costumer_Month'].value_counts().sort_index())\n",
    "\n",
    "plt.figure(figsize=(8, 6))\n",
    "plt.bar([1, 2, 3, 4, 5, 6, 7, 8, 9, 10, 11, 12], month0['Costumer_Month'], color='#3681c2', edgecolor='white')\n",
    "plt.bar([1, 2, 3, 4, 5, 6, 7, 8, 9, 10, 11, 12], month1['Costumer_Month'], bottom=month0['Costumer_Month'],\n",
    "        color='#adcee6', edgecolor='white')\n",
    "plt.grid(axis='y', alpha=0.5, color='lightgrey')\n",
    "plt.xticks(np.arange(1, 13, 1))\n",
    "plt.yticks(np.arange(0, 350, 50))\n",
    "plt.legend(resp_legend)\n",
    "plt.title('Response Per Costumer\\'s Enrolment Month')\n",
    "plt.show()"
   ]
  },
  {
   "cell_type": "markdown",
   "id": "2e512613",
   "metadata": {},
   "source": [
    "### Total Accepted Offers feature"
   ]
  },
  {
   "cell_type": "code",
   "execution_count": 22,
   "id": "14673a18",
   "metadata": {},
   "outputs": [
    {
     "data": {
      "text/html": [
       "<div>\n",
       "<style scoped>\n",
       "    .dataframe tbody tr th:only-of-type {\n",
       "        vertical-align: middle;\n",
       "    }\n",
       "\n",
       "    .dataframe tbody tr th {\n",
       "        vertical-align: top;\n",
       "    }\n",
       "\n",
       "    .dataframe thead th {\n",
       "        text-align: right;\n",
       "    }\n",
       "</style>\n",
       "<table border=\"1\" class=\"dataframe\">\n",
       "  <thead>\n",
       "    <tr style=\"text-align: right;\">\n",
       "      <th></th>\n",
       "      <th>Response 0</th>\n",
       "      <th>Response 1</th>\n",
       "    </tr>\n",
       "  </thead>\n",
       "  <tbody>\n",
       "    <tr>\n",
       "      <th>0</th>\n",
       "      <td>1631</td>\n",
       "      <td>146</td>\n",
       "    </tr>\n",
       "    <tr>\n",
       "      <th>1</th>\n",
       "      <td>224</td>\n",
       "      <td>101</td>\n",
       "    </tr>\n",
       "    <tr>\n",
       "      <th>2</th>\n",
       "      <td>41</td>\n",
       "      <td>42</td>\n",
       "    </tr>\n",
       "    <tr>\n",
       "      <th>3</th>\n",
       "      <td>9</td>\n",
       "      <td>35</td>\n",
       "    </tr>\n",
       "    <tr>\n",
       "      <th>4</th>\n",
       "      <td>1</td>\n",
       "      <td>10</td>\n",
       "    </tr>\n",
       "  </tbody>\n",
       "</table>\n",
       "</div>"
      ],
      "text/plain": [
       "   Response 0  Response 1\n",
       "0        1631         146\n",
       "1         224         101\n",
       "2          41          42\n",
       "3           9          35\n",
       "4           1          10"
      ]
     },
     "execution_count": 22,
     "metadata": {},
     "output_type": "execute_result"
    }
   ],
   "source": [
    "accepted0 = pd.DataFrame(resp0['AcceptedTotal'].value_counts().sort_index())\n",
    "accepted1 = pd.DataFrame(resp1['AcceptedTotal'].value_counts().sort_index())\n",
    "\n",
    "accepted = pd.concat([accepted0, accepted1], axis=1, join=\"inner\")\n",
    "accepted.columns = ['Response 0', 'Response 1']\n",
    "accepted"
   ]
  },
  {
   "cell_type": "markdown",
   "id": "d54c5ce5",
   "metadata": {},
   "source": [
    "It seemed that cutomers who didn't accept any previous offers or accepted only one, were less likely to accept the offer in the last campaign, while cutomers who accepted three or four previous offers, were more likely to accept the last offer.\n",
    "\n",
    "i.e. the more previous offers a customer accepted, the more likely it is for the customer to accept the next offer."
   ]
  },
  {
   "cell_type": "markdown",
   "id": "22c79278",
   "metadata": {},
   "source": [
    "## Implementing Statistical Learning Algorithms"
   ]
  },
  {
   "cell_type": "markdown",
   "id": "afde3c12",
   "metadata": {},
   "source": [
    "### Preparing the Data"
   ]
  },
  {
   "cell_type": "code",
   "execution_count": 23,
   "id": "9ae92b34",
   "metadata": {},
   "outputs": [],
   "source": [
    "# scaling\n",
    "scaler = StandardScaler()\n",
    "scaled = pd.DataFrame(scaler.fit_transform(features), columns = features.columns)\n",
    "scaled.columns = features.columns\n",
    "features = scaled\n",
    "features.drop(['Response'], axis=1, inplace=True)\n",
    "\n",
    "# splitting to train and test\n",
    "X_train, X_test, y_train, y_test = train_test_split(features, label, test_size=0.4)"
   ]
  },
  {
   "cell_type": "markdown",
   "id": "e2468223",
   "metadata": {},
   "source": [
    "In each of the following subsections, I apply a different statistical learning algorithm on the data. \n",
    "For most algorithms, I define a parameter grid and use CV to select the combination of parameters that lead to the most accurate predictions. \n",
    "In addition, I display the selected model's accuracy on both the train and test data."
   ]
  },
  {
   "cell_type": "markdown",
   "id": "4a4d1315",
   "metadata": {},
   "source": [
    "### Logistic Regression"
   ]
  },
  {
   "cell_type": "code",
   "execution_count": 24,
   "id": "80c880de",
   "metadata": {},
   "outputs": [
    {
     "data": {
      "text/html": [
       "<div>\n",
       "<style scoped>\n",
       "    .dataframe tbody tr th:only-of-type {\n",
       "        vertical-align: middle;\n",
       "    }\n",
       "\n",
       "    .dataframe tbody tr th {\n",
       "        vertical-align: top;\n",
       "    }\n",
       "\n",
       "    .dataframe thead th {\n",
       "        text-align: right;\n",
       "    }\n",
       "</style>\n",
       "<table border=\"1\" class=\"dataframe\">\n",
       "  <thead>\n",
       "    <tr style=\"text-align: right;\">\n",
       "      <th></th>\n",
       "      <th>Train</th>\n",
       "      <th>Test</th>\n",
       "    </tr>\n",
       "  </thead>\n",
       "  <tbody>\n",
       "    <tr>\n",
       "      <th>Logistic Regression Accuracy</th>\n",
       "      <td>0.9</td>\n",
       "      <td>0.869</td>\n",
       "    </tr>\n",
       "  </tbody>\n",
       "</table>\n",
       "</div>"
      ],
      "text/plain": [
       "                              Train   Test\n",
       "Logistic Regression Accuracy    0.9  0.869"
      ]
     },
     "execution_count": 24,
     "metadata": {},
     "output_type": "execute_result"
    }
   ],
   "source": [
    "parameters_grid = {'C': [0.001, 0.005, 0.01, 0.05, 0.1, 0.5, 1, 1.25, 1.5]}\n",
    "\n",
    "log_reg = LogisticRegression(fit_intercept=True)\n",
    "\n",
    "grid_search = GridSearchCV(estimator=log_reg, param_grid=parameters_grid, cv=10) \n",
    "grid_search.fit(X_train, y_train)\n",
    "best_log = grid_search.best_estimator_\n",
    "\n",
    "y_pred = best_log.predict(X_test)\n",
    "\n",
    "LOG_accuracy = round(accuracy_score(y_test, y_pred), 3)\n",
    "pd.DataFrame([round(grid_search.best_score_, 3), LOG_accuracy], index=['Train', 'Test'], columns=['Logistic Regression Accuracy']).T"
   ]
  },
  {
   "cell_type": "markdown",
   "id": "1ad1c772",
   "metadata": {},
   "source": [
    "#### Selected Parameter"
   ]
  },
  {
   "cell_type": "code",
   "execution_count": 25,
   "id": "4cc8ce43",
   "metadata": {},
   "outputs": [
    {
     "data": {
      "text/html": [
       "<div>\n",
       "<style scoped>\n",
       "    .dataframe tbody tr th:only-of-type {\n",
       "        vertical-align: middle;\n",
       "    }\n",
       "\n",
       "    .dataframe tbody tr th {\n",
       "        vertical-align: top;\n",
       "    }\n",
       "\n",
       "    .dataframe thead th {\n",
       "        text-align: right;\n",
       "    }\n",
       "</style>\n",
       "<table border=\"1\" class=\"dataframe\">\n",
       "  <thead>\n",
       "    <tr style=\"text-align: right;\">\n",
       "      <th></th>\n",
       "      <th>C</th>\n",
       "    </tr>\n",
       "  </thead>\n",
       "  <tbody>\n",
       "    <tr>\n",
       "      <th>Selected Value</th>\n",
       "      <td>0.5</td>\n",
       "    </tr>\n",
       "  </tbody>\n",
       "</table>\n",
       "</div>"
      ],
      "text/plain": [
       "                  C\n",
       "Selected Value  0.5"
      ]
     },
     "execution_count": 25,
     "metadata": {},
     "output_type": "execute_result"
    }
   ],
   "source": [
    "dt = pd.DataFrame.from_dict(grid_search.best_params_, orient='index', columns=['Selected Value']).T\n",
    "dt"
   ]
  },
  {
   "cell_type": "markdown",
   "id": "1977a0cc",
   "metadata": {},
   "source": [
    "### KNN"
   ]
  },
  {
   "cell_type": "code",
   "execution_count": 26,
   "id": "986cfccc",
   "metadata": {},
   "outputs": [
    {
     "data": {
      "text/html": [
       "<div>\n",
       "<style scoped>\n",
       "    .dataframe tbody tr th:only-of-type {\n",
       "        vertical-align: middle;\n",
       "    }\n",
       "\n",
       "    .dataframe tbody tr th {\n",
       "        vertical-align: top;\n",
       "    }\n",
       "\n",
       "    .dataframe thead th {\n",
       "        text-align: right;\n",
       "    }\n",
       "</style>\n",
       "<table border=\"1\" class=\"dataframe\">\n",
       "  <thead>\n",
       "    <tr style=\"text-align: right;\">\n",
       "      <th></th>\n",
       "      <th>Train</th>\n",
       "      <th>Test</th>\n",
       "    </tr>\n",
       "  </thead>\n",
       "  <tbody>\n",
       "    <tr>\n",
       "      <th>KNN Accuracy</th>\n",
       "      <td>0.874</td>\n",
       "      <td>0.848</td>\n",
       "    </tr>\n",
       "  </tbody>\n",
       "</table>\n",
       "</div>"
      ],
      "text/plain": [
       "              Train   Test\n",
       "KNN Accuracy  0.874  0.848"
      ]
     },
     "execution_count": 26,
     "metadata": {},
     "output_type": "execute_result"
    }
   ],
   "source": [
    "parameters_grid = {'n_neighbors': np.arange(1, 30, 2)}\n",
    "\n",
    "knn = KNeighborsClassifier()\n",
    "\n",
    "grid_search = GridSearchCV(estimator=knn, param_grid=parameters_grid, cv=10) \n",
    "grid_search.fit(X_train, y_train)\n",
    "best_knn = grid_search.best_estimator_\n",
    "\n",
    "y_pred = best_knn.predict(X_test)\n",
    "\n",
    "KNN_accuracy = round(accuracy_score(y_test, y_pred), 3)\n",
    "pd.DataFrame([round(grid_search.best_score_, 3), KNN_accuracy], index=['Train', 'Test'], columns=['KNN Accuracy']).T"
   ]
  },
  {
   "cell_type": "markdown",
   "id": "04993c25",
   "metadata": {},
   "source": [
    "#### Selected Parameter"
   ]
  },
  {
   "cell_type": "code",
   "execution_count": 27,
   "id": "168ed0a9",
   "metadata": {},
   "outputs": [
    {
     "data": {
      "text/html": [
       "<div>\n",
       "<style scoped>\n",
       "    .dataframe tbody tr th:only-of-type {\n",
       "        vertical-align: middle;\n",
       "    }\n",
       "\n",
       "    .dataframe tbody tr th {\n",
       "        vertical-align: top;\n",
       "    }\n",
       "\n",
       "    .dataframe thead th {\n",
       "        text-align: right;\n",
       "    }\n",
       "</style>\n",
       "<table border=\"1\" class=\"dataframe\">\n",
       "  <thead>\n",
       "    <tr style=\"text-align: right;\">\n",
       "      <th></th>\n",
       "      <th>n_neighbors</th>\n",
       "    </tr>\n",
       "  </thead>\n",
       "  <tbody>\n",
       "    <tr>\n",
       "      <th>Selected Value</th>\n",
       "      <td>17</td>\n",
       "    </tr>\n",
       "  </tbody>\n",
       "</table>\n",
       "</div>"
      ],
      "text/plain": [
       "                n_neighbors\n",
       "Selected Value           17"
      ]
     },
     "execution_count": 27,
     "metadata": {},
     "output_type": "execute_result"
    }
   ],
   "source": [
    "dt = pd.DataFrame.from_dict(grid_search.best_params_, orient='index', columns=['Selected Value']).T\n",
    "dt"
   ]
  },
  {
   "cell_type": "markdown",
   "id": "a6412bdc",
   "metadata": {},
   "source": [
    "## LDA"
   ]
  },
  {
   "cell_type": "code",
   "execution_count": 28,
   "id": "75255c67",
   "metadata": {},
   "outputs": [
    {
     "data": {
      "text/html": [
       "<div>\n",
       "<style scoped>\n",
       "    .dataframe tbody tr th:only-of-type {\n",
       "        vertical-align: middle;\n",
       "    }\n",
       "\n",
       "    .dataframe tbody tr th {\n",
       "        vertical-align: top;\n",
       "    }\n",
       "\n",
       "    .dataframe thead th {\n",
       "        text-align: right;\n",
       "    }\n",
       "</style>\n",
       "<table border=\"1\" class=\"dataframe\">\n",
       "  <thead>\n",
       "    <tr style=\"text-align: right;\">\n",
       "      <th></th>\n",
       "      <th>Train</th>\n",
       "      <th>Test</th>\n",
       "    </tr>\n",
       "  </thead>\n",
       "  <tbody>\n",
       "    <tr>\n",
       "      <th>LDA Accuracy</th>\n",
       "      <td>0.895</td>\n",
       "      <td>0.866</td>\n",
       "    </tr>\n",
       "  </tbody>\n",
       "</table>\n",
       "</div>"
      ],
      "text/plain": [
       "              Train   Test\n",
       "LDA Accuracy  0.895  0.866"
      ]
     },
     "execution_count": 28,
     "metadata": {},
     "output_type": "execute_result"
    }
   ],
   "source": [
    "lda = LinearDiscriminantAnalysis()\n",
    "\n",
    "lda.fit(X_train, y_train)\n",
    "train_pred = lda.predict(X_train)\n",
    "y_pred = lda.predict(X_test)\n",
    "\n",
    "train_accuracy = round(accuracy_score(y_train, train_pred), 3)\n",
    "LDA_accuracy = round(accuracy_score(y_test, y_pred), 3)\n",
    "pd.DataFrame([train_accuracy, LDA_accuracy], index=['Train', 'Test'], columns=['LDA Accuracy']).T"
   ]
  },
  {
   "cell_type": "markdown",
   "id": "6711d4af",
   "metadata": {},
   "source": [
    "## Decision Tree"
   ]
  },
  {
   "cell_type": "code",
   "execution_count": 29,
   "id": "63e61456",
   "metadata": {},
   "outputs": [
    {
     "data": {
      "text/html": [
       "<div>\n",
       "<style scoped>\n",
       "    .dataframe tbody tr th:only-of-type {\n",
       "        vertical-align: middle;\n",
       "    }\n",
       "\n",
       "    .dataframe tbody tr th {\n",
       "        vertical-align: top;\n",
       "    }\n",
       "\n",
       "    .dataframe thead th {\n",
       "        text-align: right;\n",
       "    }\n",
       "</style>\n",
       "<table border=\"1\" class=\"dataframe\">\n",
       "  <thead>\n",
       "    <tr style=\"text-align: right;\">\n",
       "      <th></th>\n",
       "      <th>Train</th>\n",
       "      <th>Test</th>\n",
       "    </tr>\n",
       "  </thead>\n",
       "  <tbody>\n",
       "    <tr>\n",
       "      <th>Classification Tree Accuracy</th>\n",
       "      <td>0.874</td>\n",
       "      <td>0.854</td>\n",
       "    </tr>\n",
       "  </tbody>\n",
       "</table>\n",
       "</div>"
      ],
      "text/plain": [
       "                              Train   Test\n",
       "Classification Tree Accuracy  0.874  0.854"
      ]
     },
     "execution_count": 29,
     "metadata": {},
     "output_type": "execute_result"
    }
   ],
   "source": [
    "parameters_grid = {\n",
    "    'max_depth': [3, 5, 7],\n",
    "    'min_samples_leaf': [1, 2, 3],\n",
    "    'min_samples_split': [2, 3, 4],\n",
    "    'max_leaf_nodes': [4, 5, 6]\n",
    "}\n",
    "\n",
    "tr = tree.DecisionTreeClassifier()\n",
    "\n",
    "grid_search = GridSearchCV(estimator=tr, param_grid=parameters_grid, cv=10) \n",
    "grid_search.fit(X_train, y_train)\n",
    "best_tree = grid_search.best_estimator_\n",
    "\n",
    "y_pred = best_tree.predict(X_test)\n",
    "\n",
    "TREE_accuracy = round(accuracy_score(y_test, y_pred), 3)\n",
    "pd.DataFrame([round(grid_search.best_score_, 3), TREE_accuracy], index=['Train', 'Test'], columns=['Classification Tree Accuracy']).T"
   ]
  },
  {
   "cell_type": "markdown",
   "id": "406d227e",
   "metadata": {},
   "source": [
    "### Selected Parameters"
   ]
  },
  {
   "cell_type": "code",
   "execution_count": 30,
   "id": "14a546b8",
   "metadata": {},
   "outputs": [
    {
     "data": {
      "text/html": [
       "<div>\n",
       "<style scoped>\n",
       "    .dataframe tbody tr th:only-of-type {\n",
       "        vertical-align: middle;\n",
       "    }\n",
       "\n",
       "    .dataframe tbody tr th {\n",
       "        vertical-align: top;\n",
       "    }\n",
       "\n",
       "    .dataframe thead th {\n",
       "        text-align: right;\n",
       "    }\n",
       "</style>\n",
       "<table border=\"1\" class=\"dataframe\">\n",
       "  <thead>\n",
       "    <tr style=\"text-align: right;\">\n",
       "      <th></th>\n",
       "      <th>max_depth</th>\n",
       "      <th>max_leaf_nodes</th>\n",
       "      <th>min_samples_leaf</th>\n",
       "      <th>min_samples_split</th>\n",
       "    </tr>\n",
       "  </thead>\n",
       "  <tbody>\n",
       "    <tr>\n",
       "      <th>Selected Value</th>\n",
       "      <td>3</td>\n",
       "      <td>6</td>\n",
       "      <td>1</td>\n",
       "      <td>2</td>\n",
       "    </tr>\n",
       "  </tbody>\n",
       "</table>\n",
       "</div>"
      ],
      "text/plain": [
       "                max_depth  max_leaf_nodes  min_samples_leaf  min_samples_split\n",
       "Selected Value          3               6                 1                  2"
      ]
     },
     "execution_count": 30,
     "metadata": {},
     "output_type": "execute_result"
    }
   ],
   "source": [
    "dt = pd.DataFrame.from_dict(grid_search.best_params_, orient='index', columns=['Selected Value']).T\n",
    "dt"
   ]
  },
  {
   "cell_type": "code",
   "execution_count": 31,
   "id": "9e585904",
   "metadata": {},
   "outputs": [
    {
     "data": {
      "image/png": "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\n",
      "text/plain": [
       "<Figure size 720x720 with 1 Axes>"
      ]
     },
     "metadata": {
      "needs_background": "light"
     },
     "output_type": "display_data"
    }
   ],
   "source": [
    "plt.figure(figsize=(10, 10))\n",
    "tr = tree.plot_tree(best_tree, feature_names=X_train.columns, class_names=['0', '1'], filled=True)"
   ]
  },
  {
   "cell_type": "markdown",
   "id": "7bdbd5db",
   "metadata": {},
   "source": [
    "## Bagging"
   ]
  },
  {
   "cell_type": "code",
   "execution_count": 32,
   "id": "2826fbfd",
   "metadata": {},
   "outputs": [
    {
     "data": {
      "text/html": [
       "<div>\n",
       "<style scoped>\n",
       "    .dataframe tbody tr th:only-of-type {\n",
       "        vertical-align: middle;\n",
       "    }\n",
       "\n",
       "    .dataframe tbody tr th {\n",
       "        vertical-align: top;\n",
       "    }\n",
       "\n",
       "    .dataframe thead th {\n",
       "        text-align: right;\n",
       "    }\n",
       "</style>\n",
       "<table border=\"1\" class=\"dataframe\">\n",
       "  <thead>\n",
       "    <tr style=\"text-align: right;\">\n",
       "      <th></th>\n",
       "      <th>Train</th>\n",
       "      <th>Test</th>\n",
       "    </tr>\n",
       "  </thead>\n",
       "  <tbody>\n",
       "    <tr>\n",
       "      <th>Bagging Accuracy</th>\n",
       "      <td>0.886</td>\n",
       "      <td>0.874</td>\n",
       "    </tr>\n",
       "  </tbody>\n",
       "</table>\n",
       "</div>"
      ],
      "text/plain": [
       "                  Train   Test\n",
       "Bagging Accuracy  0.886  0.874"
      ]
     },
     "execution_count": 32,
     "metadata": {},
     "output_type": "execute_result"
    }
   ],
   "source": [
    "parameters_grid = {\n",
    "    'n_estimators': [20, 50, 100, 150, 200],\n",
    "    'max_features': [5, 10, 15, 20]\n",
    "}\n",
    "\n",
    "bg = BaggingClassifier(tree.DecisionTreeClassifier())\n",
    "\n",
    "grid_search = GridSearchCV(estimator=bg, param_grid=parameters_grid, cv=10) \n",
    "grid_search.fit(X_train, y_train)\n",
    "best_bagging = grid_search.best_estimator_\n",
    "\n",
    "y_pred = best_bagging.predict(X_test)\n",
    "\n",
    "BG_accuracy = round(accuracy_score(y_test, y_pred), 3)\n",
    "pd.DataFrame([round(grid_search.best_score_, 3), BG_accuracy], index=['Train', 'Test'], columns=['Bagging Accuracy']).T"
   ]
  },
  {
   "cell_type": "markdown",
   "id": "505fb9ec",
   "metadata": {},
   "source": [
    "### Selected Parameters"
   ]
  },
  {
   "cell_type": "code",
   "execution_count": 33,
   "id": "7d8fd4cc",
   "metadata": {},
   "outputs": [
    {
     "data": {
      "text/html": [
       "<div>\n",
       "<style scoped>\n",
       "    .dataframe tbody tr th:only-of-type {\n",
       "        vertical-align: middle;\n",
       "    }\n",
       "\n",
       "    .dataframe tbody tr th {\n",
       "        vertical-align: top;\n",
       "    }\n",
       "\n",
       "    .dataframe thead th {\n",
       "        text-align: right;\n",
       "    }\n",
       "</style>\n",
       "<table border=\"1\" class=\"dataframe\">\n",
       "  <thead>\n",
       "    <tr style=\"text-align: right;\">\n",
       "      <th></th>\n",
       "      <th>max_features</th>\n",
       "      <th>n_estimators</th>\n",
       "    </tr>\n",
       "  </thead>\n",
       "  <tbody>\n",
       "    <tr>\n",
       "      <th>Selected Value</th>\n",
       "      <td>20</td>\n",
       "      <td>200</td>\n",
       "    </tr>\n",
       "  </tbody>\n",
       "</table>\n",
       "</div>"
      ],
      "text/plain": [
       "                max_features  n_estimators\n",
       "Selected Value            20           200"
      ]
     },
     "execution_count": 33,
     "metadata": {},
     "output_type": "execute_result"
    }
   ],
   "source": [
    "dt = pd.DataFrame.from_dict(grid_search.best_params_, orient='index', columns=['Selected Value']).T\n",
    "dt"
   ]
  },
  {
   "cell_type": "markdown",
   "id": "5b1b93f0",
   "metadata": {},
   "source": [
    "## Random Forest"
   ]
  },
  {
   "cell_type": "code",
   "execution_count": 34,
   "id": "e6735cd1",
   "metadata": {},
   "outputs": [
    {
     "data": {
      "text/html": [
       "<div>\n",
       "<style scoped>\n",
       "    .dataframe tbody tr th:only-of-type {\n",
       "        vertical-align: middle;\n",
       "    }\n",
       "\n",
       "    .dataframe tbody tr th {\n",
       "        vertical-align: top;\n",
       "    }\n",
       "\n",
       "    .dataframe thead th {\n",
       "        text-align: right;\n",
       "    }\n",
       "</style>\n",
       "<table border=\"1\" class=\"dataframe\">\n",
       "  <thead>\n",
       "    <tr style=\"text-align: right;\">\n",
       "      <th></th>\n",
       "      <th>Train</th>\n",
       "      <th>Test</th>\n",
       "    </tr>\n",
       "  </thead>\n",
       "  <tbody>\n",
       "    <tr>\n",
       "      <th>Random Forest Accuracy</th>\n",
       "      <td>0.893</td>\n",
       "      <td>0.874</td>\n",
       "    </tr>\n",
       "  </tbody>\n",
       "</table>\n",
       "</div>"
      ],
      "text/plain": [
       "                        Train   Test\n",
       "Random Forest Accuracy  0.893  0.874"
      ]
     },
     "execution_count": 34,
     "metadata": {},
     "output_type": "execute_result"
    }
   ],
   "source": [
    "parameters_grid = {\n",
    "    'max_depth': [50, 100, 150, 200],\n",
    "    'min_samples_leaf': [1, 2],\n",
    "    'min_samples_split': [2, 3],\n",
    "    'n_estimators': [50, 100, 150],\n",
    "    'max_features': [5, 10, 15, 20]\n",
    "}\n",
    "\n",
    "rf = RandomForestClassifier()\n",
    "\n",
    "grid_search = GridSearchCV(estimator=rf, param_grid=parameters_grid, cv=10) \n",
    "grid_search.fit(X_train, y_train)\n",
    "best_rf = grid_search.best_estimator_\n",
    "\n",
    "y_pred = best_rf.predict(X_test)\n",
    "\n",
    "RF_accuracy = round(accuracy_score(y_test, y_pred), 3)\n",
    "pd.DataFrame([round(grid_search.best_score_, 3), RF_accuracy], index=['Train', 'Test'], columns=['Random Forest Accuracy']).T"
   ]
  },
  {
   "cell_type": "markdown",
   "id": "44a76dae",
   "metadata": {},
   "source": [
    "### Selected Parameters"
   ]
  },
  {
   "cell_type": "code",
   "execution_count": 35,
   "id": "3475a48d",
   "metadata": {},
   "outputs": [
    {
     "data": {
      "text/html": [
       "<div>\n",
       "<style scoped>\n",
       "    .dataframe tbody tr th:only-of-type {\n",
       "        vertical-align: middle;\n",
       "    }\n",
       "\n",
       "    .dataframe tbody tr th {\n",
       "        vertical-align: top;\n",
       "    }\n",
       "\n",
       "    .dataframe thead th {\n",
       "        text-align: right;\n",
       "    }\n",
       "</style>\n",
       "<table border=\"1\" class=\"dataframe\">\n",
       "  <thead>\n",
       "    <tr style=\"text-align: right;\">\n",
       "      <th></th>\n",
       "      <th>max_depth</th>\n",
       "      <th>max_features</th>\n",
       "      <th>min_samples_leaf</th>\n",
       "      <th>min_samples_split</th>\n",
       "      <th>n_estimators</th>\n",
       "    </tr>\n",
       "  </thead>\n",
       "  <tbody>\n",
       "    <tr>\n",
       "      <th>Selected Value</th>\n",
       "      <td>150</td>\n",
       "      <td>20</td>\n",
       "      <td>1</td>\n",
       "      <td>2</td>\n",
       "      <td>100</td>\n",
       "    </tr>\n",
       "  </tbody>\n",
       "</table>\n",
       "</div>"
      ],
      "text/plain": [
       "                max_depth  max_features  min_samples_leaf  min_samples_split  \\\n",
       "Selected Value        150            20                 1                  2   \n",
       "\n",
       "                n_estimators  \n",
       "Selected Value           100  "
      ]
     },
     "execution_count": 35,
     "metadata": {},
     "output_type": "execute_result"
    }
   ],
   "source": [
    "dt = pd.DataFrame.from_dict(grid_search.best_params_, orient='index', columns=['Selected Value']).T\n",
    "dt"
   ]
  },
  {
   "cell_type": "markdown",
   "id": "9ede2d72",
   "metadata": {},
   "source": [
    "### Feature Importance"
   ]
  },
  {
   "cell_type": "code",
   "execution_count": 36,
   "id": "e88eccbd",
   "metadata": {},
   "outputs": [
    {
     "data": {
      "image/png": "iVBORw0KGgoAAAANSUhEUgAAAkQAAAHiCAYAAAAJTdM0AAAAOXRFWHRTb2Z0d2FyZQBNYXRwbG90bGliIHZlcnNpb24zLjMuNCwgaHR0cHM6Ly9tYXRwbG90bGliLm9yZy8QVMy6AAAACXBIWXMAAAsTAAALEwEAmpwYAABcQklEQVR4nO3dd7wdVbn/8c+XUAIkJAaQACIJSA9wgCRINRS9FlRQMCCWIIqggnh/4LVyYyygYAEsGBECSAldpAaRUEKAFNJAyiUJSi+R0AMkz++PtTaZ7Oxzzj69zPf9ep3XmVmzZs0zO8Q8rjV7HkUEZmZmZmW2SlcHYGZmZtbVnBCZmZlZ6TkhMjMzs9JzQmRmZmal54TIzMzMSs8JkZmZmZWeEyIzMzMrPSdEZtZtSFoo6XVJrxR+NmqHMfdvrxjruN5YSX/prOs1RdIYSXd2dRxmPYETIjPrbj4eEf0KP092ZTCSVu3K67dWT43brKs4ITKzbk/SAEl/lvSUpCck/URSn3xsc0n/kPSCpOclXShpYD52AfBe4G95tunbkkZJerxq/HdmkfIMz+WS/iLpJWBMU9evI/aQ9DVJj0h6WdKPc8xTJb0k6VJJq+e+oyQ9Lul7+V4WSjq86nM4X9Jzkh6T9ANJq+RjYyRNkfRrSYuAicBZwG753l/M/T4m6b587X9LGlsYf0iO94uS/pVj+H7heJ8c26P5XmZI2iQf21rSzZIWSXpI0mda9Ids1sWcEJlZT3Ae8DbwPmAn4EPAl/MxAScDGwHbAJsAYwEi4vPAv1g+6/SLOq/3SeByYCBwYTPXr8eHgV2A9wPfBsYDh+dYhwGHFfoOBtYDNga+CIyXtFU+diYwANgM+ADwBeCIwrm7AvOBdwOfA44GpuZ7H5j7vJrPGwh8DDhG0oFV8e4JbAXsB5wkaZvc/t851o8C6wBfAl6TtDZwM3BRvvZhwO8lbVf/R2TWtZwQmVl3c7WkF/PP1ZI2AD4CHB8Rr0bEs8CvgUMBIuL/IuLmiFgSEc8BvyIlC20xNSKujohlpH/4G71+nX4eES9FxP3APGBSRMyPiMXADaQkq+iH+X5uA64DPpNnpEYD342IlyNiIfBL4POF856MiDMj4u2IeL1WIBExOSLmRsSyiJgDXMzKn9ePIuL1iJgNzAZ2zO1fBn4QEQ9FMjsiXgAOABZGxLn52jOBK4CDW/AZmXUprzGbWXdzYET8vbIjaSSwGvCUpErzKsC/8/F3A2cAewH987H/tDGGfxe2N23q+nV6prD9eo39wYX9/0TEq4X9x0izX+sBq+f94rGNG4m7Jkm7AqeQZqZWB9YALqvq9nRh+zWgX97eBHi0xrCbArtWluWyVYELmovHrLvwDJGZdXf/BpYA60XEwPyzTkRUlmNOBgLYISLWIS0VqXB+VI33KrBWZSfPvKxf1ad4TnPXb2/vyktQFe8FngSeB94iJR/FY080EnetfUjLWtcAm0TEANJzRqrRr5Z/A5s30n5b4fMZmJfpjqlzXLMu54TIzLq1iHgKmAT8UtI6klbJDyVXlnn6A68AL0raGDixaohnSM/cVDwM9M0PF68G/IA0S9La63eEH0laXdJepOWoyyJiKXAp8FNJ/SVtSnqmp6mv+D8DvKfy0HbWH1gUEW/k2bfPtiCus4EfS9pCyQ6S1gWuBbaU9HlJq+WfEYVnj8y6PSdEZtYTfIG0vPMAaTnscmDDfOxHwM7AYtLzNldWnXsy8IP8TNIJ+bmdr5H+cX+CNGP0OE1r6vrt7el8jSdJD3QfHREP5mPHkuKdD9xJmu05p4mx/gHcDzwt6fnc9jVgnKSXgZNISVa9fpX7TwJeAv4MrBkRL5MeND80x/008HOaSDTNuhtF1JpRNTOzziZpFPCXiHhPF4diVjqeITIzM7PSc0JkZmZmpeclMzMzMys9zxCZmZlZ6TkhMjMzs9Lzm6pLbN11142hQ4d2dRgttnTpUvr0qauuZrfiuDuX4+5cjtt6ghkzZjwfEdUvYgWcEJXaJptswvTp07s6jBZbtGgRgwYN6uowWsxxdy7H3bkct/UEkh5r7JiXzMzMzKz0nBCZmZlZ6TkhMjMzs9JzQmRmZmal54TIzMzMSs8JkZmZmZWeEyIzMzMrPSdEZmZmVnpOiMzMzKz0nBCZmZlZ6TkhMjMzs9JzQmRmZmal54TIzMzMSs8JkZmZmZWeEyIzMzMrPSdEZmZmVnpOiMzMzKz0nBCZmZlZ6a3a1QFY13l68RJ2HXdHV4fRYnsPWZ3bF77Z1WG0mOPuXI67czlua2/3nLRXp17PM0RmZmZWer0uIZJ0kKSQtHUnXe97rThnjKTfSvq+pFn5Z2lh+7ga5zRI+mgdY4+SdG1LYzIzMyuzXpcQAYcBdwKHdtL1WpwQVUTETyOiISIagNcr2xFxRo3uDUCzCZGZmZm1XK9KiCT1A/YAjiQnRJL6SDpN0lxJcyQdm9tHSLpL0mxJ90rqn/ueKmla7vvV3HeUpNslXSXpAUlnSVpF0inAmnlW58Lc93N5vFmS/iipT24/QtLDkm7LMTZ2D30lnZvjvU/SPpJWB8YBo/O4oyWNzPHfl39v1YEfrZmZWa/W2x6qPhC4MSIelrRI0s7ArsBQYKeIeFvSoJxgTARGR8Q0SesAr5MSqcURMULSGsAUSZPy2COBbYHHgBuBT0XEdyR9I8/wIGkbYDSwR0S8Jen3wOGSbgZ+BOwCLAZuBe5r5B6+DhAR2+dlv0nAlsBJwPCI+Ea+1jrA3vme9gd+Bny6uQ9I0lHAUQD91x3c/CdqZmZWAr0tIToM+E3eviTvbwacFRFvA0TEIknbA09FxLTc9hKApA8BO0g6OI8xANgCeBO4NyLm534XA3sCl1ddfz9S0jNNEsCawLOkpGxyRDyXz59ISnJq2RM4M8f1oKTHGuk7ADhP0hZAAKs19+HkMccD4wEGD90m6jnHzMyst+s1CZGkdYF9gWGSAuhDShRm5N8rdK/RVmk/NiJuqhp7VI3+jZ1/XkR8t+r8AxvpX4vq7Pdj4NaIOEjSEGByneeZmZlZld70DNHBwPkRsWlEDImITYAFwEzgaEmrAkgaBDwIbCRpRG7rn4/fBBwjabXcvqWktfP4IyUNlbQKaVnsztz+VqU/cAtwsKR3V64laVPgHmCUpHVz30OauI/bgcMr1wfeCzwEvAz0L/QbADyRt8e06JMyMzOzFfSmhOgw4KqqtiuAjYB/AXMkzQY+GxFvkpKaM3PbzUBf4GzgAWCmpHnAH1k+izYVOAWYR0q0Ktcan8e+MCIeAH4ATJI0J4+7YUQ8BYzNY/ydlKQ15vdAH0lzSc85jYmIJaTnjratPFQN/AI4WdIU0myYmZmZtVKvWTKLiFE12opfX//vqmPTgPfXGOp7VH2VPj8P9FpEjK5xjf8B/qewP5GUyFT3Oxc4t4n4++Xfb1BjxiciFgEjqpqLzxb9MPebjJfPzMzMWkQRfq62OfkZohMi4oAuDqVdNTQ0xKxZs7o6jBZbtGgRgwYN6uowWsxxdy7H3bkct/UEkmZExPBax3rNDFFH8qyLmZlZ79abniEyMzMzaxXPEJWYq913LsfduRx35+jsiuRmHcUzRGZmZlZ6niFqA0lLgbmkz3EB8PmIeLFLgzIzM7MW8wxR21Qq1A8DFpHrkJmZmVnP4oSo/UwFNgaQtLmkGyXNkHRHLtKKpA0kXSVpdv7ZPbd/TtK9+aWLf5TUJ7e/Iumnue/dkjZobBxJP5b0zUow+bzjOv1TMDMz64GcELWDnMDsB1yTm8aTaqLtApxAevs0wBnAbRGxI7AzcL+kbUhvzd4jIhqApeTSHcDawN25/+3AVxobB/gz8MUczyrAocCFHXLDZmZmvYyfIWqbNSXNAoaQisjeLKkfsDtwWX7DNcAa+fe+wBcAImIpsFjS54FdgGm5/5rAs7n/m8C1eXsG8MHGxsljvSBpJ2AD4L6IeKE6YElHAUcB9F93cNvu3szMrJdwQtQ2r0dEg6QBpMTl68AE4MU821MPAedFxHdrHHsrlr9KfCnN/3mdTSr7MRg4p1aHiBhPmsFi8NBt/JpyMzMzvGTWLiJiMXAcaXnsdWCBpEMAlOyYu94CHJPb+0haJ7cdLOnduX2QpE2buWStcSAVnP0wqebZTe11f2ZmZr2dE6J2EhH3AbNJz+4cDhwpaTbp+Z5P5m7fBPbJlexnANtFxAPAD4BJkuYANwMbNnO5lcbJMbwJ3ApcmpfSzMzMrA5eMmuDSoX6wv7HC7sfrtH/GZYnR8X2icDEpsaPiMuBy5saJz9M/X7gkLpvwszMzFztvreQtC3pOaarIuL/1XOOq913LsfduRx353Lc1hO42n0J5KW3zbo6DjMzs57IzxCZmZlZ6XmGqMRc7b5zOe7muXK6mXUVzxCZmZlZ6TkhameSXunqGMzMzKxlnBCZmZlZ6Tkh6iCSRkmaLOlySQ9KulC5WJmkEZLuypXq75XUX1JfSedKmivpPkn75L5jJF0t6W+SFkj6hqT/zn3uljQo99tc0o2SZki6Q9LWXXn/ZmZmPYkfqu5YO5HeIv0kMAXYQ9K9pJcwjo6Iabnsxuukt08TEdvnZGaSpC3zOMPyWH2B/wP+JyJ2kvRrUpHX35Dqkx0dEY9I2hX4PakIrJmZmTXDCVHHujciHgeQNAsYQqpM/1RETAOIiJfy8T2BM3Pbg5IeAyoJ0a0R8TLwsqTFwN9y+1xgB0n9gN2By/IkFMAatQJytXszM7OVOSHqWEsK25Vq9QJqvR5cNdpqjbOssL8sj7kK8GJENDQXkKvdm5mZrczPEHW+B4GNJI0AyM8PrQrcTioKS14qey/wUD0D5lmmBZIOyedL0o4dEbyZmVlv5ISok+WK9KOBMyXNJlW370t65qdPrmA/ERgTEUsaH2klhwNH5jHvp0bxVzMzM6vNS2btrFKhPiImA5ML7d8obE8jVaWvNqbGeBOACYX9IbWORcQC4MOtj9zMzKy8PENkZmZmpecZohIbPGCNHlk7atGiRZw6aFBXh9FijtvMrPvyDJGZmZmVnmeISszV7jtXmePuiTORZlYuniEyMzOz0nNC1AxJIemCwv6qkp6TdG0z5w2U9LXC/lWSDizsPyTpB4X9KyR9StLRkr7QzrdhZmZmTXBC1LxXgWGS1sz7HwSeqOO8gcDXCvt3kcprIGld4BVgt8Lx3YC7IuKsiDi/rUGbmZlZ/ZwQ1ecG4GN5+zDg4soBSWMlnZMr28+XdFw+dAqwuaRZkk4lFXfdPR/bHbgWWD+/VXoo8HpEPJ3HOyGPPVnSzyXdK+lhSXvl9j6STpU0TdIcSV/N7RtKuj1fc16lv5mZmTXND1XX5xLgpLxMtgNwDlBMNrYG9gH6Aw9J+gPwHWBYpb6YpDVIM02rkxKi24DNgG1IleynNHLtVSNipKSPAv8L7A8cCSyOiBF53CmSJgGfAm6KiJ9K6gOs1W6fgJmZWS/mhKgOETFH0hDS7ND1Nbpcl8tsLJH0LLBBjTGWSLof2Jn0lupfkBKi3UkJ0V2NXP7K/HsGMCRvf4hU5f7gvD8A2AKYBpwjaTXg6oiYVT2Yq92bmZmtzEtm9bsGOI3CcllBrar2tdwF7A30j4j/AHeTEqLdaXyGqDJ2cVwBx0ZEQ/4ZGhGTIuL2PP4TwAW1Hs6OiPERMTwihq/Vf2AjlzQzMysXJ0T1OwcYFxFz6+z/MmkJrWgK8FVgdt6fQ5otei+pIGu9bgKOyTNBSNpS0tqSNgWejYg/AX8mzUaZmZlZM7xkVqeIeBw4vQX9X5A0RdI84IaIOJE0Q7QZcHLu83ZeYvt3RCxrQThnk5bPZkoS8BxwIDAKOFHSW6Rvsfnr+2ZmZnVwQtSMSvX6qrbJ5Er2ETG26tiwwvZnq449S1ruKraNqtofW+tYRDxPfoYoJ0/fyz9F5+UfMzMzawEvmZmZmVnpeYaoxFztvnM5bjOz7sszRGZmZlZ6TojMzMys9LxkVmJPL17CruPu6OowWmzvIatz+8I3uzqMFuvtcffE5VczswrPEJmZmVnp9aqESFJIuqCwv6qk53INsqbOGyjpa1VtW0i6VtKjkmZIulXS3s2MM0bSbxs59kr+PUTS67kA6wOSzpLU6j8HSQslrdfa883MzKyXJUTAq6QCqmvm/Q+Sylg0ZyDwTkIkqS9wHTA+IjaPiF2AY0kvVWwPj+airzsA25JeqvgOSV7KNDMz60S98R/eG4CPAZeTirFeTK5ML2ksqUzGZvn3byLiDOAUYHNJs4CbgQeBqRFxTWXQiJgHzMvjDCKV8tgMeA04KiLmFIOQNBS4iPQZ31gr0Pym6ruA90kak+PuC6ydC7eudA1J6+Z7Wh+4l/yiR0lrA5cC7wH6AD+OiIkt/vTMzMxKqLfNEAFcAhyaZ3l2AO6pOr418F/ASOB/cz2w75BnbXKJje2AmU1c40fAfRGxA+lt0efX6HM68IeIGAE8XWsQSWsB+wGV+mi7AV+MiH2buMb/AndGxE6kgrPvze0fBp6MiB3z27JrJmGSjpI0XdL0115+sYlbNDMzK49elxDlmZohpNmh62t0uS4iluRSGM8CGzQ3pqSrJM2TdGVu2hO4IF/vH8C6kgZUnbYHaSaHSt+CymzUlBzPDbn95ohY1Mw19gb+ktuvA/6T+88F9pf0c0l7RcTiWvfiavdmZmYr641LZpBmTk4jFTtdt+rYksL2Ump/BveTEg8AIuIgScPzmFBVj6zSrc42WP4MUbVXC9tNXWOlcSPiYUm7AB8FTpY0KSLGNXJ9MzMzK+h1M0TZOcC4iJjbbM/kZaB/Yf8iYA9Jnyi0rVXYvh04HEDSKOD5iHipaswpwKF5+/A64yhq7BrF9o8A78rbGwGvRcRfSInbzq24ppmZWSn1yhmiiHic9AxPvf1fkDRF0jzghog4UdIBwK8k/QZ4hpQ0/SSfMhY4V9Ic0gPPX6wx7DeBiyR9E7iiFbfR2DV+BFwsaSZwG/Cv3L49cKqkZcBbwDGtuKaZmVkpKaKxVR3r7QYP3SY2PWJ8V4fRYr39jc/dTU99U/WiRYsY1AOL0jruztVT47bWkTQjIobXOtYrZ4isPq5237kct5lZ99VbnyEyMzMzq5sTIjMzMys9L5mVmKvdd66eHndPXF41M6uXZ4jMzMys9LpNQtRelepzNfmQ9ONC23qS3mqsEn0dsTVI+mhhf0yOrVKx/iutGbcQ77xWnjtK0u6tvbaZmZkl3SYhop0q1WfzgQMK+4eQ3j7dWg2kN0AXTcxvmx4F/EzSCiVAOqli/SjACZGZmVkbdaeECJZXqoflleqBVKle0jmSJkuaL+m4fOidSvWSTs1trwP/zOU2AEaTKsFXxlpf0hWSpuWfPXL7SEl3Sbov/95K0urAOGB0vsboYsAR8SzwKLCppAmSfiXpVuDneWbpbklzcj20yluld5E0W9JU4OuFuMYUZ7EkXZvfUo2kD0uamc+7RdIQ4GjgWzmuvSQdkmuuzZZ0e+v+CMzMzMqnuz1UfQlwUl4m24FUgqP4JOfWwD6kMhsPSfoDqVL9sEptsJwoVMY6VNLTpJplTwIb5WOnA7+OiDslvRe4CdgGeBDYOyLelrQ/8LOI+LSkk4DhEfGNfI0xlYAkbQZsBvxfbtoS2D8ilua3TB8bEbdJGkeqVH88cG6hvZLENUrS+sCfcmwLJA2KiEWSzgJeiYjTcr+5wH9FxBOSBjYy1lHAUQD91x3c3KXNzMxKoVslRBExJyc0TVaqB5ZIaq5S/Y3Aj0llNyZWHdsf2FZ6p37qOpL6AwOA8yRtQSqguloT44+WtCepWOxXc4ICcFlOhgYAAyPittz/POCyGu0XAB9p4joA7wduj4gFABGxqJF+U4AJki4FrqzVISLGA+Mhvam6meuamZmVQrdKiLK2VqoHICLelDQD+H/AdsDHC4dXAXaLiNeL50g6E7g1V7cfAkxuIs6JlRmjKq/WaFvhMtSoVp+9zYrLmH3rOOcdEXG0pF1Jy46zJDVExAvNnWdmZlZ23e0ZImh7pfqiXwL/UyMpmAS8k8xIasibA1j+IPeYOq9RU0QsBv4jqbLk93ngtoh4EVicZ5cgV67PFgINklaRtAkwMrdPBT4gaWiOt1JHYYW4JG0eEfdExEnA88AmLYnZzMysrLpdQhQRj0dEiyrVA1Pyw8SnVh27PyLOq3HaccDw/LDzA6SHkwF+AZwsaQrQp9D/VtIS20oPVTfji6QK9HNI31Qbl9uPAH6XH6ouzlJNARYAc0mzZDPzfTxHeu7nSkmzWb4E+DfgoMpD1flac/PX+G8HZrcgVjMzs9JytfsSc7X7ztXT4+5pb6ruqVXMHXfn6qlxW+vI1e6tFle771yO28ys++p2S2ZmZmZmnc0JkZmZmZWel8xKzNXuO1db4+6Jy5tmZj2FZ4jMzMys9JwQmZmZWek5IapByZ2SPlJo+4ykGzvgWkvze4Rm5+Ktu+f2jSRd3sg5QyR9trC/QlFYMzMzaxknRDVEejnT0cCvJPWVtDbwUwqV6VtCUp8mDr8eEQ0RsSPwXeDkHMOTEXFwjbFWBYYAn60+ZmZmZq3jh6obERHzJP0N+B9gbeAvwPclbU/63MZGxF9zzbMLch+Ab0TEXZJGkarbP0V6S/W2dVx2HeA/kGaBgGsjYpikMaT6ZH3zddYCtpE0i1Q09j/ARnkGa3Pgqoj4dhtu38zMrFScEDXtR6TyGW8C1wL/iIgvSRoI3Cvp78CzwAcj4g1JWwAXA5W3YI4EhlWq1DdizZzY9AU2BPZtpN9uwA4RsSgnWydExAGQlsxISddOpAK4D0k6MyL+XT2IpKNIZUDov+7gOj4CMzOz3s8JURMi4lVJE4FXgM8AH5d0Qj7cF3gv8CTw21wgdimwZWGIe5tJhiAvmQFI2g04X9KwGv1ujohFTYxzSy4oS67PtimwUkIUEeOB8ZBKdzQTm5mZWSk4IWresvwj4NMR8VDxoKSxwDPAjqRnst4oHH61JReKiKmS1gPWr3G4ubGWFLaX4j9bMzOzuvmh6vrdBBwrSQCSdsrtA4CnImIZ8HmgqQeomyRp63z+C810fRno39rrmJmZ2Yo8i1C/HwO/AebkpGghcADwe+AKSYcAt9LCWSGWP0MEaRbqixGxNOddjZkDvC1pNjCB/CC2mZmZtY7SN8ytjBoaGmLWrFldHUaLLVq0iEE9sPq64+5cjrtzOW7rCSTNiIjhtY55yczMzMxKz0tmnUDSusAtNQ7tFxHNPS9kZmZmHcwJUSfISU9DV8dRzdXuO1dL43Z1ezOzzuMlMzMzMys9J0R1khSSLijsryrpOUnXNnPeQElfK+wPkfR6Luha+Vm9BXGMk7R/3j5e0lqtuR8zMzNbzglR/V4FhklaM+9/EHiijvMGAl+rans0F3St/LyzjtJMIVgi4qSI+HvePZ5U18zMzMzawAlRy9xAKrIKcBipbhmQ3lgt6RxJkyXNl3RcPnQKsHmeCTq11qCSRkm6VdJFwNw8izSvcPyE/EZsJE2QdHAefyPg1nxun3xsnqS5kr7V7ndvZmbWS/mh6pa5BDgpL5PtAJwDFJ983RrYh/QW6Yck/QH4DqnAawO8U8V+88LLGKcAl1EoBJv7NCkizpD038A+EfG8pF2AjSNiWL7OwLbdqpmZWXk4IWqBiJiTk5XDgOtrdLkuIpYASyQ9C2zQyFCPVhIkSDNE1FcItinzgc0knQlcB0yq1cnV7s3MzFbmJbOWuwY4jcJyWUFbCqwWS368zYp/Nn2bOzki/kMqMDsZ+DpwdiP9xkfE8IgYvlb/gS0Iz8zMrPdyQtRy5wDjImJunf1bU4j1GeDdktaVtAapZlqTY0taD1glIq4Afgjs3MJrmpmZlZaXzFooIh4HTm9B/xckTckPSd8A/K6Oc96SNA64B1gAPNhI1/HADZKeIn3j7FxJlST3u/XGaGZmVnZOiOoUEf1qtE0mLVEREWOrjg0rbH+26tRhVX3fGafQdgZwRo1rjilsnwmcWTjsWSEzM7NW8JKZmZmZlZ5niEps8IA1emS9rEWLFnHqoEFdHUaL9dS4zczKwDNEZmZmVnqeISoxV7vvXJW4e+KsnJlZb+cZIjMzMyu9Tk+I2rFq/CqSzijU7pomaWgHxXygpG0L+xMkLcj1yWZK2q0NY4+R9Ns2nLtRa69tZmZmSVfMELVX1fjRpOKmO0TE9sBBwIvtF+YKDgS2rWo7MZff+A7wx+oTmqta307GkD4DMzMza4OuWjJrj6rxGwJPRcQySC9MjIj/SPqMpF/lsb4paX7e3lzSnXl7F0m3SZoh6SZJGxb63Jjb75C0taTdgU8Ap+Zrb151L7cD78vnL5R0Ur7OIZIOy7NX8yT9vHCPR0h6WNJtwB6F9gmSDi7sv1LY/nYea7akU3K/4cCFOa41c/sDkuZIOq1VfzJmZmYl1FUPVbdH1fj3AHdK2gu4BfhLRNxHSlBOzOPsBbwgaWNgT+AOSauRXmb4yYh4TtJo4KfAl0hvfj46Ih6RtCvw+4jYV9I1wLURcXm+dvFePg4Uy3i8ERF75qWsu4FdgP8AkyQdSHr79I9y+2LgVuC+pj4sSR8hzVLtGhGvSRoUEYskfQM4ISKmSxpEmiXbOiLC1e7NzMzq1yUJUXtUjY+IxyVtBeybf26RdEhE3CKpn6T+wCbARcDepOToSmAr0puib86JTR/gKUn9gN2BywoJzxpN3Mapkn4APAccWWifmH+PACZHxHMAki7McVDVPhHYsonrAOwPnBsRr+V7X1Sjz0vAG8DZkq4Daj6T5Wr3ZmZmK+vKr91XqsaPAtatOlZX1ficNN1Aquf1DGkW5RZgKnAE8BBwB2n2Zzfg/wHvBe6PiBUehJa0DvBiZQaqDidWZoyqVKrWq8axd0JvpP2dKvdKWdnqhbEaOycNGPG2pJHAfsChwDdIiWJ1v/GkmTAGD92myTHNzMzKoiu/dt+mqvGSdq58wyoXNN0BeCwfvh04If++j7T8tiQiFpOSpPUr3wyTtJqk7SLiJWCBpENyuyTtWOvadboH+ICk9fID1ocBt+X2UUqV7FcDDimcs5C0lAbwSWC1vD0J+JKktXJsldcdF6vd9wMGRMT1pEKvDS2M18zMrLS6LCHKD0G3qGo8MCU/oHwq8G7gb0pV5OeQZlcqX1+/g7RcdntELAX+DdyZx3kTOBj4uaTZwCzSUhnA4cCRuf1+UlIC6ZmnEyXdV+Oh6sbifYpUcf5WYDYwMyL+mtvHkmax/g7MLJz2J1ISdS+wK3m2KSJuJM2oTZc0i5TsAUwAzspt/YFrJc0hJV7fqidOMzMzA0V41aSsBg/dJjY9YnxXh9FiflN151q0aBGDemANNsfduRy39QSSZkTE8FrH/KZqMzMzKz3XMisxV7vvXD01bjOzMvAMkZmZmZWeEyIzMzMrPS+ZldjTi5ew67g7ujqMFuspD1X3xOVIM7Oy8gyRmZmZlV63TogkhaQLCvurSnou10Br6ryBkr5W2B8i6fVcBLXy815Jtd40XTxnXiPHJkhakMeZWXnJY2tIGiPpt833bPRcV7s3MzNro26dEJFeTDhM0pp5/4PAE3WcNxD4WlXboxHRUPj5V0QcXOPcep2Yy3x8B/hj9cH8duqONgZwQmRmZtZG3T0hglSr7GN5+zDg4soBSWMlnSNpsqT5ko7Lh04BNs8zOKfWGrQ4AyRpO0n35v5zJG2Ru/WR9CdJ90uaVEjMim4H3pfHWSjpJEl3AodIOkzS3Px27Z8Xrn2EpIcl3QbsUWifIOngwv4rhe1v57FmSzol9xsOXJjjXjO3P5Dv4bT6Pl4zMzPrCQ9VXwKclJfJdiDVQCs+rbo1qVZZf+AhSX8gzdoMqxRqlTSEnCDlc6YAxUTpaOD0iLhQ0upAH2ADYAvgsIj4iqRLgU8Df6mK7+NAsR7bGxGxZ17KuptUm+w/wCRJB5Jqmf0oty8mlfa4r6kPQNJHSIVrd42I1yQNiohFkr4BnBAR03N9s4OArSMiJA1sZCxXuzczM6vS7ROiiJiTE5rDgOtrdLkuV71fIulZUiJTy6PFSvZ5zIqpwPclvQe4MiIeScXmWRARs3KfGUDxnFMl/QB4Djiy0D4x/x4BTI6I5/L1LgT2zseK7ROBLRuJuWJ/4NyIeA0gIhbV6PMS8AZwtqTrgJrPWbnavZmZ2cp6wpIZpMKmp1FYLitYUtheSiuSvIi4CPgE8Dpwk6R96xj7xPws0gcjovjw9av5t5q6ZCPtb5P/TJQystULYzWZvETE28BI4ArSbNKNTfU3MzOz5XpKQnQOMC4i5jbbM3mZtIRWF0mbAfMj4gxS8rVDy0NcyT2kyvXr5QesDyNVob8HGCVpXUmrAYcUzllIWkoD+CSwWt6eBHxJ0lo53kr9h3fuU1I/YEBEXA8cDzS0wz2YmZmVQrdfMgOIiMeB01vQ/wVJU/JD0zcAv2vmlNHA5yS9BTwNjAPWaW28OYanJH2X9IyQgOsj4q+QHgYnLdM9BcwkPbME8Cfgr5LuBW4hzzZFxI2SGoDpkt4kLR1+D5gAnCXpdeAj+dy++Xrfakv8ZmZmZaIIP0ZSVoOHbhObHjG+q8NosZ76pupFixYxqAcWd3Xcnctxd66eGre1jqQZETG81rEeMUNkHcPV7s3MzJKe8gyRmZmZWYdxQmRmZmal5yWzEnO1+47RE5chzczKzjNEZmZmVnrtnhDlCvW/LOyfkL9m3h5jb5Xrls2S9E9J43N7g6SPtsc18nhjJD2Xr/OApK+007gLJa3XHmOZmZlZ++mIGaIlwKc66B/+M4Bf5zdEbwOcmdsbgBYlRJKaWy6cmEt9jAJ+JqmxkiDV43ZGlXszMzNrRx2REL1NqpW10osBG6vmLmmUpNskXZqrwJ8i6fBcgX6upM3zKRsCj1fOj4i5uRjrOGB0ntEZLWmQpKtz1fe7Je2QrzNW0nhJk4DzJa0v6QpJ0/LPO5XnC9d4FngU2LSZ+G+VdBEwV1IfSafl2OdIOrYw5LGSZuZjW+fzR0q6S9J9+fdWuX27/BnMyuNskds/V2j/Y75enxzfvDy2X8xoZmZWp456qPp3wBxJv2jBOTsC2wCLgPnA2RExUtI3gWNJ5Sh+DfxD0l2kchbnRsSLkk4ChkfENwAknQncFxEH5rpk57O8lMUuwJ4R8XpOYH4dEXdKei9wU47hHbmsx2bA/zUT/0hgWEQskHQMMBTYKSLeLpTaAHg+InaW9DXgBODLwIPA3rnv/sDPgE8DRwOnR8SFOfHrI2kb0pu194iItyT9HjgcuB/YOCKG5bgHNvuJm5mZGdBBCVFEvCTpfOA4UsHUekyLiKcAJD1KSngA5gL75HHPlXQT8GFSra+vStqxxlh7khIKIuIfuW7YgHzsmoioxLQ/sK30Th3WdSRVaqCNlrQnaQnwqxGxqNCvlnsjYkFh3LNywdXq6vRX5t8zgE/l7QHAeXkGKFhew2wq8H1J7wGujIhHJO1HSuqm5XjWBJ4F/gZslpPB6wqf3wokHQUcBdB/3cFN3Y+ZmVlpdOTX7n9DqtN1bqGtsWrusGJl+WWF/WUU4oyIJ0nFXs9RqlU2rMa1a2UulRolrxbaVgF2KyRI5NggPUP0jaoxmoq/OG5T1ekr97WU5ff1Y+DWiDhI0hBgMkBEXCTpHuBjwE2SvpzHPi8ivls9cE4O/wv4OvAZ4EvVfSJiPGlJk8FDt3HdFjMzMzrwa/d5VuRS4MhC80JqV3Ovi6QPK1WIR9JgYF3gCVaubn87aRkJSaNIy1Qv1RhyEvBO0qNUQLUp9cY/CTi68uB21ZJZLQNI9wEwphDPZsD8iDgDuAbYgVT09WBJ766MLWnT/BD7KhFxBfBDYOdmrmlmZmZZR7+H6JdA8dtmfwI+oFTNfVdWnFWpx4eAeZJmk573OTEiniZVlN+28lA1MBYYLmkOcArwxUbGO67ST9IDpGd2mlJv/GcD/yI9RzUb+Gwz4/4COFnSFKD4LbXRpPudBWwNnB8RDwA/ACbl+7uZ9LD5xsDk3HcCsNIMkpmZmdXmavcl5mr3HaOxN1X31KrajrtzOe7O1VPjttaRq91bLa52b2Zmlrh0h5mZmZWeEyIzMzMrPS+ZlZir3bevnrj8aGZmiWeIzMzMrPTaLSFSB1W5lzRQ0gv5RYhI2i1f6z15f4CkRZJq3kuuM3ZtjfYJkr5a1XagpOslDZd0RhMxbSTp8rzdIKnJwrKShuSYf1xoW0/SW5J+29S5zYz52cL+mNaOZWZmVnbtOUPUIVXuI+JF4GmW1xjbHbgv/wZ4P3BPRCxr4dAXA4dWtR0KXBwR0yPiuCZiejIiKkVeG4AmE6JsPnBAYf8QUv2x1hpC8+83MjMzszq0Z0LUkVXup7A8AdqdVOS1uH9XrvZ+qlLV+jlVsz/rSLpK0gOSzsqzSX8Htpa0YY5lLVINsquLs0qSPpBf+DhLqRp9/zw7My8XXB1Hqns2S9LoWv1zDK8D/5RUef/BaNKbvCufyaaSbsmx36JUbLby2Z0h6S5J8wuf4ynAXvk6lc98I0k3SnpELSusa2ZmVmrt/QzR74DDtbyQaj12BL4JbA98HtgyIkaS3vZ8bO5zF8sToM2Ay4BKYrE7KWE6ElgcESOAEcBXJA3NfUYC/y9fY3PgUxGxlFRo9TO5zydI9cRerorvBODrEdEA7EWhWG1EvAmcRKp71hARE5vqD1wCHJqX+5YCTxaO/Zb0JuodgAuB4pLdhqSCtQeQEiGA7wB35Ov+Orc1kBKt7UlJ2iaYmZlZs9o1Icr1wipV7us1LSKeioglQHWV+yF5ewqwe05wFkbEG6T6qv1ItcXuJZX1+EIuXXEPqc7ZFvn8eyNifk6CLiYlF7Distmheb/aFOBXko4DBlYq2Dehqf43Ah8EDgMmVp23G3BR3r6gECPA1RGxLJft2KCJa98SEYvz5/MAsGl1B0lHSZouafprL7/YzK2YmZmVQ0d8y+w3pNmatQttbapyHxGPAO8CPg5MzcdnAEcACyLiFVIV+GPzjElDRAyNiEpyVV2fpLI/BdhQqUr87sD11TcTEacAXwbWBO6WtHVTN99U/zyjNIM0W3VFU+NUxVz8jNTEOcV+S6nxWoWIGB8RwyNi+Fr9BzYTgpmZWTm0e0LUEVXus6mkpbWphf3jSctpkIq9HiNpNQBJW0qqJGUjJQ3Nzw6NBu7MsUaO9Tzg+jyzsgJJm0fE3Ij4OTCdVGS16GWgfwv6/xL4n4h4oar9LpbPVh1eibEJK1zXzMzMWq+j3kPU3lXuIc3mbEJKMiAlRJuxPCE6m7RMNFPSPOCPLJ8hmUp69mYesAC4qjDuxaTnmC5p5LrH5weoZ5OeB7qh6vitwLaVh6qb6x8R90fEeTWucxxwhFIF+8+Tkr+mzAHeljS78FC1mZmZtYKr3ZeYq923r+beVN1Tq2o77s7luDtXT43bWkeudm+1uNq9mZlZ4tIdZmZmVnpOiMzMzKz0vGRWYq52v6KeuHxoZmbtwzNEZmZmVnpOiMzMzKz0umVCJGmwpEskPZoLsl4vacsWjvG9joqvpSRNlvSv/JbuStvVlSK3rRzz+FyQtrLf6rHMzMzKrtslRDlpuAqYHBGbR8S2wPdouoZXLZ2eEEnq08ThF4E9cr+BpIKtbXE8sFZznczMzKx53S4hAvYB3oqIsyoNETELuFPSqfkt0HPzW6GRtKGk2/OboudJ2kvSKcCaue1CSUPy26vJ55wgaWzenizp13mMf0oaIelKSY9I+knhnM9JujeP+cdK8iPpFUnjJN1DKtDamEtYXprjU8CVhbHVyL2NyvFdLunBfC/KhWM3Am6VdGthnJ/mN1ffLamlCaSZmVlpdceEaBipAGq1TwENpDIb+wOnStoQ+CxwU0RUjs2KiO8Ar+cir4fXcc03I2Jv4Czgr8DXcxxjJK0raRtSDbQ98nWWkuqNQSpiOy8ido2IpuqP3QLsnROpQ1mx2n1j9wawE2k2aFtSqZI9IuIM4Elgn4jYpxDH3RGxI3A78JVaQbjavZmZ2cp60tfu9wQujoilwDOSbgNGANOAc3JR16vzbFJLXZN/zwXuj4inACTNJ9VP25NUnHZafgxoTeDZfM5Smq9cX+l3JymxWjMiFhYeKWrs3l4C7o2Ix3M8s4Ah1C78+iZwbd6eAXywVhARMR4YD6l0Rx1xm5mZ9XrdcYboflLyUU012oiI24G9gSeACyR9oUa3t1nxXvtWHV+Sfy8rbFf2V83XPi/PODVExFYRMTb3eSMnMvW4BDgTuLSqvea9VcUGKalqLIl9K5YXpmuqn5mZmVXpjgnRP4A1JL2z5CNpBPAfYLSkPpLWJyVB90raFHg2Iv4E/BnYOZ/2Vp41AngGeHde/loDOKCFMd0CHCzp3TmeQfm6LXUHcDJwcVX77dS4t2bGehno34oYzMzMrEq3m0WIiJB0EPAbSd8B3gAWkp6j6QfMBgL4dkQ8LemLwImS3gJeASozROOBOZJmRsThksYB9wALgAdbGNMDkn4ATJK0CvAW6Tmjx1p6b8BpNQ5dRXogu/retm5iuPHADZKeKjxHZGZmZq2g5assVjaDh24Tmx4xvqvDaLGeWrpj0aJFDBo0qEOv0REcd+dy3J2rp8ZtrSNpRkQMr3Ws280QWecZPGCNHlm/a9GiRZzq/wEzM7N25ISoHUm6Chha1fw/EXFTV8RjZmZm9XFC1I4i4qCujsHMzMxazglRiT29eAm7jrujq8NosfZ8hqgnLhmamVn7645fuzczMzPrVM0mRJJC0i8L++/UAWsPkr6Qa3jdnyvbn9BM/wMlbVvHuGObG6uJc0dJWizpvlzf7H9bM06NcSdLqvl0u5mZmXWdemaIlgCfkrRee19c0kdI7xf6UERsR3qp4uJmTjuQVNero90RETsBw4HPSar19uyV5OKrnnkzMzPrQer5h/tt0ksAv1V9QNIESQcX9l/Jv0dJuk3SpZIelnSKpMNztfi5kjbPp3wXOCEingSIiDfyG6eR9BVJ03L19iskrSVpd+ATpOKnsyRtXqtfjTgbcgX4OZKukvSu3D4it02tVJuvPjciXiXVBtu8etYpz2wNyT//lPR7YCawiaRv53udLemUwpCH5M/hYUl75XGGSLpD0sz8s3tu31DS7fle5xX6fyjHPFPSZZL65fZT8izbHEm1XgBpZmZmNdQ7k/E74HBJA1ow9o7AN4Htgc8DW0bESOBs4Njcp7HK9gBXRsSIXL39n8CREXEXqRDribmm2KO1+tUY63zS1993IBVwrSyBnQscHRG7kep/rUTSusD7STXWmrIVcH6eVdqWNJO1a47rF4V+q+bP4fhCHM8CH4yInUnFX8/I7Z8FboqIBtLnOSvP1P0A2D/3nw78t6RBwEHAdvk+f9LI/bjavZmZWZW6vmUWES9JOh84Dni9zrGnFarGPwpMyu1zgXpKTQyT9BNgIKlkR2Pv8mmyX07iBkbEbbnpPOAySQOB/jnJAriIFWuc7SXpPlKB11Mi4n5JhzQR72MRcXfe3h84NyJeA4iIRYV+V+bfM0iV6wFWA34rqYGUmG2Z26cB5yjVZLs6ImZJ+gAp4ZoiCWB1YCrwEqnMydmSrmN55fsVuNq9mZnZylrytfvfkJaDzi20vVNFXulf59ULx6qrxhcryleuW6ls/48a15sAHBgRsyWNAUY1Ele9/ao1VWEe0jNE1UVg37nfrG9h+9WqsRtLNiqfQ7Ei/bdIBWh3zOO/ARARt0vaG/gYcIGkU0lFbm+OiMNWuiFpJLAfcCjwDWDfpm7QzMzMkrof/s2zHJey4pLUQlJCA/BJ0kxHS5wM/ELSYABJa0g6Lh/rDzyVZ0cOL5xTXeW9sX6VuBcD/6k8f0NavrstIv4DvCzp/bn90DriXUh68BtJO7PyW6krJgFfqjzPlJezmjIAeCoiluX4+uTzNgWezc9V/Tlf+25gD0nvy33WkrRlfo5oQERcT1qOa6jjfszMzIyWv5jxl6SZh4o/AX+VdC9wCyvOkjQrIq6XtAHw9zzDFMA5+fAPSdXpHyMts1WSoEuAP+XE6eAm+hV9ETgrJyjzgSNy+5F5rFeByTT/DbcrgC9ImkVaznq4kfu6MS9/TZf0JnA98L0mxv09cEVekruV5Z/jKOBESW8BrwBfiIjn8kzYxZLWyP1+QEoU/yqpL2mGaqWH4M3MzKy2Ule7l9QvIirfjPsOsGFEfLOLw+o0rnbfuW+q7qlVtR1353Lcnaunxm2tI1e7b9THJH2X9Dk8Bozp2nA6l6vdm5mZJaVOiCJiIjCxq+MwMzOzruU3KpuZmVnplXqGqOzKXu2+Jy4XmplZx/AMkZmZmZVeuyVEkkLSLwv7J0ga205jj5X0RK7p9YikK1VHxftmxjuhieNjJD2Xr/eApK+09lpV4y5UBxTJNTMzs7ZpzxmiJcCnOvAf/F/n+mVbkB6E/oek9TvoWgATcw2xUcDP8vuSmiWpTwfGZGZmZh2gPROit0k1slZ6IaCkCZIOLuxX3v0zStJtki7N1d9PkXR4rgY/V9LmtS6Uvx02iVT8FEm75HFmSLpJ0oa5/SuSpilVnL+i8uboqtiOK1SIv6TGtZ4FHgU2beY+bpV0ETBXUh9Jp+V7mCPp2MKQxypVqZ8raet8/khJd0m6L//eKrdvlz+LWXmcLXL75wrtf8zX65Pjm5fH9osZzczM6tTezxD9DjhcqaBqvXYEvglsTypbsWWuBn82cGwT580Ets4lO84EDo6IXUhvuv5p7nNlRIzIFef/yYplRyq+A+yUK8QfXX1Q0mbAZsD/NXMfI4HvR8S2wFGksh6VcS8s9Hs+V6n/A1BZtnsQ2DsidgJOAn6W248GTs8zVcOBxyVtA4wG9sjtS0klSxqAjSNiWERsz4o154r342r3ZmZmVdr1W2YR8ZKk84HjgNfrPG1aRDwFIOlR0swPpDIc+zRxXqU461bAMODmVP2DPsBT+dgwST8BBgL9gJtqjDMHuFDS1cDVhfbRkvYkLQV+NSIW5fEbc29ELMjb+wNnRcTb0GS1+0/l7QHAeXkGKFheE24q8H1J7yEld49I2o9UP25ajmdN4Fngb8Bmks4ErmP557gCV7s3MzNbWUd87f43pNmb4gzFO1Xic82y1QvHlhS2lxX2lzUT307AdFJidH9E7FajzwTgwIiYnet/jarR52PA3sAngB9K2i63T4yIb1T1beo+2lLt/sfArRFxkKQhpLpqRMRFku7JMd4k6ct57PMi4rvVA0vaEfgv4OvAZ4AvNRKDmZmZFbT71+7zbMilrLg8tZA0qwHwSZbPgLSKpE8DHwIuBh4C1pe0Wz62WiGp6Q88lZfVDq8xzirAJhFxK/Btls8kNabe+5gEHC1p1XydeqrdP5G3xxTi2wyYHxFnANcAO5CK6B4s6d2VsSVtmh9mXyUiriAVvN25mWuamZlZ1lHvIfolUPy22Z+AD0i6F9iVFWdT6vWtytfugc8B+0bEcxHxJqnq/c8lzQZmAbvnc34I3APcTHpOp1of4C+S5gL3kb7J9mITMdR7H2cD/wLm5Jg+28y9/QI4WdKUHFPFaGCepFnA1sD5EfEAqbr9JElz8r1tCGwMTM59JwArzSCZmZlZbaWudl92Za9239lvqu6pVbUdd+dy3J2rp8ZtrSNXu7daXO3ezMwscekOMzMzKz0nRGZmZlZ6XjIrsd5Q7b4nLvmZmVn34xkiMzMzK71OSYgkhaRfFvZPkDS2HcYdKOmF/JJEJO2Wr/WevD9A0qL8vqFa54+SdG0jxxbmmmCzJU2SNLgd4h0j6bdtHcfMzMzaV2fNEC0BPpVfHthu8juDnga2yU27k94nVHkP0fuBeyJiWSsvsU+ugzYd+F69J1VeyGhmZmY9Q2clRG+T6metVIG9mQryt0m6VNLDkk6RdHiu8j5X0ub5lCksT4B2B35dtX9XrgR/qlLl+zmSvloIYR1JVylVvD+rkdmk24H3SRoiaV4h1ndmuiRNlvQzSbcB35Q0Qqly/ewcc/982kaSbpT0iKRfFMb6Qy66er+kHxXaT8mxzZF0Wm5bX9IV+X6mSdojt38gv7xylqT7Ctc0MzOzJnTmTMbvSG9u/kWzPZfbkTT7swiYD5wdESMlfRM4FjgeuItUi+xsUlX6y4BKwrM7cDKpjMjiiBghaQ1giqRK8dORwLbAY8CNpIKrl1fFcQCp2GxzBkbEByStTnoz9uiImCZpHZYXu20g1WFbAjwk6cyI+Dfw/VxAtg9wi6QdgMeBg4CtIyIkDcxjnE56q/adkt5LKlq7DXAC8PWImCKpH/BGHTGbmZmVXqc9VB0RLwHnA8e14LRpEfFURCwBHmV5Bfe5wJC8PQXYXdJQYGFEvEGqvdqPVHfsXlLdsy/kshb3AOsCW+Tz742I+RGxlFQbbc/C9W/N56xDSqyaMzH/3gp4KiKmVe49cuV74JaIWJzjfADYNLd/RtJM0pLfdqQk7SVSUnO2pE8Br+W++wO/zbFdQ5rl6p8/i19JOo6UnFWu+Q5JR+WZqOmvvfxiHbdkZmbW+3X2sy6/AWYC5xbamqogv6Swvaywv4wce0Q8IuldwMeBqfn4DOAIYEFEvJLHPTYibioGI2kUK1elL+7vExHPF/r3Y8Uksm/VuZXaZvVUu4dc8T4ncycAIyLiP5ImAH0j4m1JI4H9gEOBbwD75hh2i4jXVxyaUyRdB3wUuFvS/hGxQg23iBhPWr5k8NBtXLfFzMyMTv7afUQsAi4lLWFVLKS+CvJNmQp8k+UJ0VSWL6dBWlI6RqnqPZK2lLR2PjZS0tD87NBo4M4mrvMM8G5J6+altwMa6fcg6VmhEfl6/Zt50HodUjK1WNIGwEfyef2AARFxfb6fhtx/Eik5IvdryL83j4i5EfFz0oPgWzdxTTMzM8u64ttQv6TwjzmpgvxflSrI30LjFeSbMoU0KzI9708lPU9USYjOJi2xzcyzRc8BBxb6ngJsT3p4+qrGLhIRb0kaR1p2W0BKfGr1e1PSaOBMSWuSnh/av4lxZ0u6D7if9KzUlHyoP+mz6Uuadao8lH4c8Dulaver5riPBo6XtA9p5ukB4IbGrmlmZmbLudp9ifWGavc96U3VPbWqtuPuXI67c/XUuK115Gr3Vour3ZuZmSUu3WFmZmal54TIzMzMSs9LZiXWGdXue+KSnJmZlY9niMzMzKz0nBB1Q5KW5npk8yRdJmmt6jpqVf0nSFqQ66Y9LOl8SRt3dtxmZmY9lROi7un1iGiIiGHAm6R3DDXnxIjYkVQ25D5S2ZHVmznHzMzMcELUE9wBvC9v95H0J0n3S5qUX/q4gkh+DTxNfuO1mZmZNc0JUTeWy318hFTMFlJB2t9FxHbAi8Cnmzh9Ji7dYWZmVhcnRN3TmrmS/XTgX8Cfc/uCiJiVt2eQypE0RjUbXe3ezMxsJf7afff0ekQ0FBtSCTaWFJqWAistmRXsRKoNtwJXuzczM1uZE6JeJhevPRbYELixi8MxMzPrEbxk1nucKmk28DAwAtgnIt7s4pjMzMx6BM8QdUMR0a9G20JgWGH/tML2mE4JzMzMrJfyDJGZmZmVnmeISmzwgDVca8zMzAzPEJmZmZl5hqjMOqravWedzMysp/EMkZmZmZWeZ4haSNK6LH/h4WDSCxKfy/sj2/JVd0kNwEYRcX3eHwu8UvxGmZmZmbU/J0QtFBEvAA3QIQlLAzAcuL49BpPUJyKWtsdYZmZmvZmXzNqBpP0k3SdprqRzJK2R2z8q6UFJd0o6Q9K1uX3t3G9aPu+TklYHxgGjJc2SNDoPv62kyZLmSzqucM3PSbo39/2jpD65/RVJ4yTdA+zWuZ+EmZlZz+SEqO36AhOA0RGxPWnW7RhJfYE/Ah+JiD2B9QvnfB/4R0SMAPYBTgVWA04CJkZEQ0RMzH23Bv4LGAn8r6TVJG0DjAb2yDXPlgKH5/5rA/MiYteIuLOjbtrMzKw3cULUdn1IVegfzvvnAXuTEpn5EbEgt19cOOdDwHdyRfvJpKTqvY2Mf11ELImI54FngQ2A/YBdgGl5jP2AzXL/pcAVjQXravdmZmYr8zNEbfdqI+1q4hwBn46Ih1ZolHat0be6wv2q+fzzIuK7Nfq/0dRzQ652b2ZmtjLPELVdX2CIpPfl/c8DtwEPAptJGpLbRxfOuQk4NlemR9JOuf1loH8d17wFOFjSu/P5gyRt2qa7MDMzKzEnRG33BnAEcJmkucAy4KyIeB34GnCjpDuBZ4DF+Zwfk54ZmiNpXt4HuJX0EHXxoeqVRMQDwA+ASZLmADcDG7b/rZmZmZWDl8zaICLGFnZ3qtHl1ojYOs8E/Q6Yns97HfhqjfEWASOauF6x2v1EYGKNPv3qjd/MzMwSzxB1rK/kh57vBwaQvnVmZmZm3YxniDpQRPwa+HVXx9EYV7s3MzNLPENkZmZmpeeEyMzMzErPS2Yl9vTiJew67o52H9fLcGZm1tN4hsjMzMxKzwlRDZLWze8CmiXpaUlPFPZXb+PYoypFXs3MzKx78JJZDRHxAtAAIGks8EpEnNaVMZmZmVnH8QxRnSTtIuk2STMk3SRpw9y+uaQbc/sdkrbO7RMknSHpLknzJR1cGK6fpMslPSjpwkIJj/0k3SdprqRzJK2R2xdK+pmkqbkw6845hkclHV2I8URJ0yTNkfSjTvx4zMzMejQnRPURcCZwcETsApwD/DQfGw8cm9tPAH5fOG9DYE/gAOCUQvtOwPHAtqQq9XtI6gtMAEZHxPak2btjCuf8OyJ2A+7I/Q4G3g+MA5D0IWALYCRpdmsXSXuvdCOudm9mZrYSL5nVZw1gGHBznszpAzwlqR+wO6mOWbFvxdURsQx4QNIGhfZ7I+JxgPwm6yGkwq4LIuLh3Oc84OvAb/L+Nfn3XKBfRLwMvCzpDUkDgQ/ln/tyv36kBOn24o242r2ZmdnKnBDVR8D9eYZmeaO0DvBiRDQ0ct6SqjFqtS8l/TkUjzc11rKq85cVzj85IlwexMzMrIW8ZFafJcD6knYDkLSapO0i4iVggaRDcrsk7djKazwIDJH0vrz/eeC2Fpx/E/ClPGuFpI0lvbuVsZiZmZWKE6L6LCM9s/NzSbOBWaSlMoDDgSNz+/3AJ1tzgYh4AziCtPw2N1/zrBacPwm4CJiaz78c6N+aWMzMzMrGS2bNiIixhd2VHlKOiAXAh2u0j6na75d/TwYmF9q/Udi+hfTAdfVYQwrbE0gPVdc6djpwemP3YmZmZrU5ISoxV7s3MzNLvGRmZmZmpeeEyMzMzErPS2Yl1p7V7r30ZmZmPZlniMzMzKz0nBC1E0kh6YLC/qqSnmtrZXtJG0m6vIXnTKiqnWZmZmZNcELUfl4FhklaM+9/EHiiJQNIWrV6PyKejAgnN2ZmZh3ICVH7ugH4WN4+DLi4ckDSSKXK9/fl31vl9jGSLpP0N2BSjf0hkublvn0knVqoaP/V3C5Jv5X0gKTrAL+h2szMrAWcELWvS4BDc+X6HYB7CsceBPaOiJ2Ak4CfFY7tBnwxIvZtZL/iSGBxRIwARgBfkTQUOAjYCtge+ArL36JtZmZmdfC3zNpRRMyRNIQ0O3R91eEBwHmStgACWK1w7OaIWNTEfsWHgB0KzwcNIFW03xu4OCKWAk9K+kdjMUo6CjgKoP+6g+u+NzMzs97MM0Tt7xrgNArLZdmPgVsjYhjwcaBv4dirVX2r9ysEHBsRDflnaK5hBinJalZEjI+I4RExfK3+A+s5xczMrNdzQtT+zgHGRcTcqvYBLH/Iekwrx74JOEbSagCStpS0NnA7aamuj6QNgX1aOb6ZmVkpecmsnUXE49QusPoL0pLZfwONLmk142xgCDBTkoDngAOBq4B9gbnAw8BtrRzfzMyslJwQtZNKNfuqtsnkyvYRMRXYsnD4h7l9AitWr6/eXwgMy9vLgO/ln2rfaH30ZmZm5eaEqMRc7d7MzCzxM0RmZmZWek6IzMzMrPS8ZFZirnZvZmaWeIbIzMzMSs8JUSeR9H1J9+caZLMk7SrpbEnbtnK8d2qcmZmZWdt4yawTSNoNOADYOSKWSFoPWD0ivtzFoZmZmRmeIeosGwLPR8QSgIh4PiKelDRZ0nAASa9I+qmk2ZLulrRBbt8870+TNE7SK9WD5zdUn5r7zJH01U69OzMzsx7OCVHnmARsIulhSb+X9IEafdYG7o6IHUmlOL6S208HTs8V7p9sZPwjgcW5zwjgK5KGtu8tmJmZ9V5OiDpBRLwC7EKqMv8cMFHSmKpubwLX5u0ZpBIdALsBl+Xtixq5xIeAL0iaBdwDrAtsUaujpKMkTZc0/bWXX2zprZiZmfVKfoaok0TEUlIZj8mS5gJfrOryVkRUKtYvpWV/NgKOjYib6ohjPDAeYPDQbaKZ7mZmZqXgGaJOIGkrScUZmwbgsTpPvxv4dN4+tJE+NwHHSFotX29LSWu3JlYzM7MyckLUOfqRKt0/IGkOsC0wts5zjwf+W9K9pIezF9foczbwADAzfxX/j3j2z8zMrG7+R7MTRMQMYPcah0YV+vQrbF8OXJ53nwDeHxEh6VBgeu6zEBiWt5cB38s/ZmZm1kJOiLq/XYDfShLwIvCl9hrY1e7NzMwSJ0TdXETcAezY1XGYmZn1Zn6GyMzMzErPM0Ql1l7V7r3sZmZmPZ1niMzMzKz0nBABkjaQdJGk+ZJmSJoq6aA2jDdW0gmtPHeIpM8W9odLOqO1sZiZmVnzSp8Q5W9vXQ3cHhGbRcQupBcgvqeqX2ctLw4B3kmIImJ6RBzXSdc2MzMrpdInRMC+wJsRcValISIei4gzJY2RdJmkvwGTJPWTdIukmZLmSvpk5RxJ35f0kKS/A1sV2osV7deTtDBvD5F0Rx5rpqTKe4pOAfaSNEvStySNknRtPmeQpKtzRfu7Je2Q28dKOidfa74kJ1BmZmYt4IeqYTtgZhPHdwN2iIhFeZbooIh4SdJ6wN2SrgF2Js0q7UT6TGeSCrQ25VnggxHxRi7rcTEwHPgOcEJEHAAgaVThnB8B90XEgZL2Bc4nlQEB2BrYB+gPPCTpDxHxVj0fgJmZWdk5Iaoi6XfAnqTq878Dbo6IRZXDwM8k7Q0sAzYGNgD2Aq6KiNfyGNfUcanVSC9cbCAVc92yjnP2JNc1i4h/SFpX0oB87LqIWAIskfRsjuvxGvd3FHAUQP91B9dxSTMzs97PCRHcz/LiqUTE1/Psz/Tc9Gqh7+HA+sAuEfFWXv7qWzm1kfHfZvnSZN9C+7eAZ0gvXVwFeKOOWFWjrXLdJYW2pTTyZ+tq92ZmZivzM0TwD6CvpGMKbWs10ncA8GxOhvYBNs3ttwMHSVpTUn/g44VzFpLKbwAcXDXWU7kO2eeBPrn9ZdKyVy23k5KyylLa8xHxUpN3Z2ZmZs0qfUIUEQEcCHxA0oJcVf484H9qdL8QGC5pOikxeTCPMROYCMwCrgCKbzs8DThG0l3AeoX23wNflHQ3abmsMhM1B3hb0mxJ36q6/th8/Tmkh6+/2Jp7NjMzsxV5yQyIiKdID0XXMqHQ73nSQ9a1xvgp8NMa7Q8COxSafpDbH6lq/25ufwvYr2qYyfnYIuCTVceIiLFV+8Nq34qZmZnVUvoZIjMzMzPPEJXY4AFruA6ZmZkZniEyMzMzc0JkZmZm5iWzEnt68RJ2HXdH8x2b4CU3MzPrDTxDZGZmZqXnGaIOJOnXwGMR8Zu8fxPw74j4ct7/JbCYVFz2lBrnvxIR/ToxZDMzs1LyDFHHugvYHUDSKqQXM25XOL47cFOtZMjMzMw6jxOijjWFnBCREqF5wMuS3iVpDWAbYEdJvwWQNFTSVEnTJP24MoiSUyXNkzRX0ujc/ntJn8jbV0k6J28fKeknnXebZmZmPZsTog4UEU+SynC8l5QYTQXuIb3tejipTMebhVNOB/4QESOApwvtnwIaSIVg9wdOlbQhqbZZ5anmjYFt8/aerFg+5B2SjpI0XdL0115+sa23aGZm1is4Iep4lVmiSkI0tbB/V1XfPYCL8/YFhfY9gYsjYmlEPAPcBowgJT17SdoWeAB4JidKu9UYG0jV7iNieEQMX6v/wHa4PTMzs57PCVHHqzxHtD1pyexuUsKyOylZqhY12lRr4Ih4AngX8GHSbNEdwGeAVyLi5TZHbmZmVhJOiDreFOAAYFGe4VkEDCQlRVNr9K0UmT280H47MFpSH0nrA3sD9+ZjU4HjWZ4QnUAjy2VmZmZWmxOijjeX9O2yu6vaFkfE81V9vwl8XdI0YECh/SrS80azgX8A346IyjNGdwCrRsT/ATOBQTghMjMzaxG/h6iDRcRSYJ2qtjGF7QnAhLy9gDRzVHFKbg/gxPxTPf6fgT/n7beAtdsxfDMzs1JwQlRirnZvZmaWeMnMzMzMSs8JkZmZmZWel8xKrN5q915WMzOz3s4zRGZmZlZ6Toi6gKT3SPqrpEckPSrpdEmrS2qQ9NFCv7GSTujKWM3MzMrACVEnkyTgSuDqiNgC2BLoB/yUVK/so42f3eJr9WmvsczMzHozJ0Sdb1/gjYg4F955T9G3gC8DvyC9kXpWpaI9sK2kyZLmSzquMoikz0m6N/f9YyX5kfSKpHGSKkVkzczMrBlOiDrfdsCMYkNEvAQsBH4CTIyIhoiYmA9vDfwXMBL4X0mrSdoGGA3sERENwFKWl/pYG5gXEbtGxJ3VF3e1ezMzs5X5W2adTzRewLVW+3URsQRYIulZYANgP2AXYFpagWNN4NncfylwRWMXj4jxwHiAwUO3qXU9MzOz0nFC1PnuBz5dbJC0DrAJKZmptqSwvZT0ZybgvIj4bo3+b+RlODMzM6uTl8w63y3AWpK+AO88+PxLUj2zZ4D+dY5xsKR35zEGSdq0Y8I1MzPr/ZwQdbJcqPUg4BBJjwAPA28A3wNuJT1EXXyoutYYDwA/ACZJmgPcDGzY4cGbmZn1Ul4y6wIR8W/g4zUOLQFGNHHesML2RGBijT792iNGMzOzMnFCVGKudm9mZpZ4yczMzMxKzwmRmZmZlZ6XzErM1e7NzMwSzxCZmZlZ6Tkh6kCSQtIFhf1VJT0n6dpWjDVQ0tfaN0IzMzMDJ0Qd7VVgmKQ18/4HgSdaOdZAoEUJkRL/GZuZmTXD/1h2vBuAj+Xtw4CLKwckjZR0l6T78u+tcvt2hUr2cyRtAZwCbJ7bTs39TpQ0Lff5UW4bIumfkn4PzCSVBDEzM7MmOCHqeJcAh0rqC+wA3FM49iCwd0TsBJwE/Cy3Hw2cnivZDwceB74DPBoRDRFxoqQPAVsAI4EGYBdJe+fztwLOj4idIuKxDr07MzOzXsDfMutgETFH0hDS7ND1VYcHAOflGaAAVsvtU4HvS3oPcGVEPJKr2hd9KP/cl/f7kRKkfwGPRcTdteKRdBRwFED/dQe34c7MzMx6D88QdY5rgNMoLJdlPwZuzSU5Pg70BYiIi4BPAK8DN0nat8aYAk7OM0YNEfG+iPhzPvZqY4FExPiIGB4Rw9fqP7BNN2VmZtZbOCHqHOcA4yJiblX7AJY/ZD2m0ihpM2B+RJxBSqZ2AF4G+hfOvQn4kqR++ZyNJb27Y8I3MzPr3ZwQdYKIeDwiTq9x6BfAyZKmAH0K7aOBeZJmAVuTngd6AZgiaZ6kUyNiEnARMFXSXOByVkyYzMzMrE5+hqgD1ao8HxGTgcl5eyqwZeHwD3P7ycDJNc79bNX+6UCtRGtYa2M2MzMrIydEJeZq92ZmZomXzMzMzKz0nBCZmZlZ6XnJrMTqqXbvJTUzMysDzxCZmZlZ6TkhagVJrxS2PyrpEUnvlXS0pC/U6D9E0ry8PUbSbzszXjMzM2ual8zaQNJ+wJnAhyLiX8BZXRySmZmZtYJniFpJ0l7An4CPRcSjuW2spBPy9i6SZkuaCny96vSNJN2YZ5Z+URjzMElz88sXf15of0XSzyXNkPR3SSMlTZY0X9Incp8+kk6VNE3SHElf7ejPwMzMrLdwQtQ6awB/BQ6MiAcb6XMucFxE7FbjWAPpbdTbA6MlbSJpI+DnwL75+AhJB+b+awOTI2IXUgmPnwAfBA4CxuU+RwKLI2IEMAL4iqShbblJMzOzsnBC1DpvAXeRkpCVSBoADIyI23LTBVVdbomIxRHxBvAAsCkpiZkcEc9FxNvAhcDeuf+bwI15ey5wW0S8lbeH5PYPAV/I5T7uAdYFtqgR21GSpkua/trLL7bops3MzHorJ0Stswz4DGkW53s1jguIJs5fUtheSnqWS030fysiKuMtq5wfEctY/hyYgGMjVb5viIihud7ZClzt3szMbGVOiFopIl4DDgAOl3Rk1bEXgcWS9sxNh9cx5D3AByStJ6kPcBhwWzPnFN0EHCNpNQBJW0pauwXnm5mZlZa/ZdYGEbFI0oeB2yU9X3X4COAcSa+RkpXmxnpK0neBW0mzPddHxF9bEM7ZpOWzmZIEPAcc2ILzzczMSssJUSsUq9hHxL+BysPLfy20zwB2LJw2NrdPACYU+h1Q2L4IuKiZ642tdSwvn30v/5iZmVkLeMnMzMzMSs8zRCU2eMAarlVmZmaGZ4jMzMzMPENUZrWq3XvGyMzMysgzRGZmZlZ6TojqJGmwpEskPSrpAUnXS9qyg641StK1zfQZLumMjri+mZlZ2XjJrA75vT5XAedFxKG5rQHYAHi4K2KKiOnA9K64tpmZWW/jGaL67EMqn3FWpSEiZgF35grz83KV+tHwzgzPbZIulfSwpFMkHS7p3txv89xvgqSzJN2R+x1QfeFc2f4uSffl31sVrnFt3h4r6RxJkyXNl3RcJ3wmZmZmvYZniOozDJhRo/1TpMr0OwLrAdMk3Z6P7QhsAywC5gNnR8RISd8EjgWOz/2GAB8ANgdulfS+qms8COwdEW9L2h/4GfDpGrFsTUrc+gMPSfpDLgBrZmZmzXBC1DZ7AhdHxFLgGUm3karWvwRMi4inACQ9ClQKrc4lJS4Vl+a3TD8iaT4psSkaAJwnaQtSwdjVGonluohYAiyR9CxpOe/x6k6SjgKOAui/7uCW3q+ZmVmv5CWz+twP7FKjvakK9cWK9ssK+8UK9ZCSHJrY/zFwa0QMAz4O9K3jektpJNl1tXszM7OVOSGqzz+ANSR9pdIgaQTwH2C0pD6S1gf2Bu5t4diHSFolP1e0GfBQ1fEBwBN5e0xrgjczM7OmOSGqQ0QEcBDwwfy1+/tJxVovAuYAs0lJ07cj4ukWDv8QcBtwA3B0RLxRdfwXwMmSpgB9Wn8XZmZm1hg/Q1SniHgS+EyNQyfmn2LfycDkwv6oxo4BUyLiW42dHxFTgeL7jn5Yo8/YqvOHNX03ZmZmVuQZIjMzMys9zxB1oYgY05XXd7V7MzOzxDNEZmZmVnpOiMzMzKz0nBCV2NOLl7DruDu6OgwzM7Mu54TIzMzMSs8JUReRtFTSLEmzJc2UtHsrxzlb0rbtHZ+ZmVmZ+FtmXef1iGgAkPRfwMmkIq8tEhFfbue4zMzMSsczRN3DOqQyIEjqJ+mWPGs0V9Inc/vakq7LM0rzJI3O7ZMlDc/bH87nzZZ0S5fdjZmZWQ/jGaKus6akWaRirRsC++b2N4CDIuIlSesBd0u6Bvgw8GREfAxA0oDiYLmW2p+AvSNigaRBtS7qavdmZmYr8wxR13k9IhoiYmtSsnO+JAECfiZpDvB3YGNgA2AusL+kn0vaKyIWV433fuD2iFgAEBGLal3U1e7NzMxW5oSoG8j1ytYD1gcOz793yc8YPQP0jYiHgV1IidHJkk6qGkZAdFrQZmZmvYgTom5A0takSvYvAAOAZyPiLUn7AJvmPhsBr0XEX4DTgJ2rhpkKfEDS0Ny/5pKZmZmZrczPEHWdyjNEkGZ3vhgRSyVdCPxN0nRgFvBg7rM9cKqkZcBbwDHFwSLiufx80JWSVgGeBT7Y8bdhZmbW8zkh6iIR0aeR9ueB3WocWgjcVKP/qML2DcAN7ROhmZlZeXjJrMRc7d7MzCxxQmRmZmal54TIzMzMSs8JkZmZmZWeEyIzMzMrPSdEZmZmVnpOiMzMzKz0nBCZmZlZ6TkhMjMzs9JzQmRmZmal54TIzMzMSs8JkZmZmZWeEyIzMzMrPSdEZmZmVnpOiMzMzKz0nBCZmZlZ6TkhMjMzs9JzQmRmZmal54TIzMzMSs8JkZmZmZWeIqKrY7AuIull4KGujqMV1gOe7+ogWsFxdy7H3bkct/UEm0bE+rUOrNrZkVi38lBEDO/qIFpK0nTH3Xkcd+dy3J2rp8Zt7c9LZmZmZlZ6TojMzMys9JwQldv4rg6glRx353Lcnctxd66eGre1Mz9UbWZmZqXnGSIzMzMrPSdEvZCkD0t6SNL/SfpOjeOSdEY+PkfSzvWe2x3jlrSJpFsl/VPS/ZK+2RPiLhzvI+k+Sdd2XtRt/u9koKTLJT2YP/fdekjc38r/jcyTdLGkvt0o7q0lTZW0RNIJLTm3I7U27q7+e5ljaPVnno93yd9N6yIR4Z9e9AP0AR4FNgNWB2YD21b1+ShwAyDg/cA99Z7bTePeENg5b/cHHu4JcReO/zdwEXBtT/jvJB87D/hy3l4dGNjd4wY2BhYAa+b9S4Ex3SjudwMjgJ8CJ7Tk3G4ad5f9vWxr7IXjnf530z9d9+MZot5nJPB/ETE/It4ELgE+WdXnk8D5kdwNDJS0YZ3ndru4I+KpiJgJEBEvA/8k/ePXreMGkPQe4GPA2Z0Ub0Wr45a0DrA38GeAiHgzIl7s7nHnY6sCa0paFVgLeLK7xB0Rz0bENOCtlp7bgVoddxf/vYS2feZd+XfTuogTot5nY+Dfhf3HWfl/hBrrU8+5HaUtcb9D0hBgJ+Ce9g+xprbG/Rvg28CyDoqvMW2JezPgOeDcvJxwtqS1OzLYOmJqtk9EPAGcBvwLeApYHBGTOjDWZmPqhHPbql2u3QV/L6Htsf+Grvm7aV3ECVHvoxpt1V8lbKxPPed2lLbEnQ5K/YArgOMj4qV2jK0prY5b0gHAsxExo/3DalZbPu9VgZ2BP0TETsCrQGc919KWz/tdpBmCocBGwNqSPtfO8TWmLX+3uvvfy6YH6Jq/l9CG2Lv476Z1ESdEvc/jwCaF/few8rJAY33qObejtCVuJK1G+h/dCyPiyg6Ms1pb4t4D+ISkhaTp/H0l/aXjQq0rpnr6PA48HhGV/7d/OSlB6gxtiXt/YEFEPBcRbwFXArt3YKz1xNTR57ZVm67dhX8voW2xd+XfTesiToh6n2nAFpKGSlodOBS4pqrPNcAX8rdx3k9aOniqznO7XdySRHqe5Z8R8atOirei1XFHxHcj4j0RMSSf94+I6KwZi7bE/TTwb0lb5X77AQ9097hJS2Xvl7RW/m9mP9JzLd0l7o44t61afe0u/nsJbYi9i/9uWlfp6qe6/dP+P6Rv2TxM+obF93Pb0cDReVvA7/LxucDwps7t7nEDe5KmwucAs/LPR7t73FVjjKKTv8nSxv9OGoDp+TO/GnhXD4n7R8CDwDzgAmCNbhT3YNKsxkvAi3l7ncbO7e5xd/Xfy7Z+5oUxOv3vpn+65sdvqjYzM7PS85KZmZmZlZ4TIjMzMys9J0RmZmZWek6IzMzMrPScEJmZmVnpOSEyMzOz0nNCZGZmZqXnhMjMzMxK7/8DmV8+ROqW6VYAAAAASUVORK5CYII=\n",
      "text/plain": [
       "<Figure size 576x576 with 1 Axes>"
      ]
     },
     "metadata": {
      "needs_background": "light"
     },
     "output_type": "display_data"
    }
   ],
   "source": [
    "imp = pd.DataFrame(best_rf.fit(X_train, y_train).feature_importances_, index=X_train.columns, \n",
    "                   columns=['Importance']).sort_values('Importance')\n",
    "\n",
    "plt.figure(figsize=(8, 8))\n",
    "plt.barh(range(0,28), imp['Importance'], color='#3681c2')\n",
    "plt.grid(axis='x', alpha=0.5, color='lightgrey')\n",
    "plt.xticks(np.arange(0, 0.16, 0.02))\n",
    "plt.yticks(range(0,28), imp.index)\n",
    "plt.title('Feature Importance')\n",
    "plt.show()"
   ]
  },
  {
   "cell_type": "markdown",
   "id": "2a490523",
   "metadata": {},
   "source": [
    "## Gradient Boosting"
   ]
  },
  {
   "cell_type": "code",
   "execution_count": 37,
   "id": "a5fd447c",
   "metadata": {},
   "outputs": [
    {
     "data": {
      "text/html": [
       "<div>\n",
       "<style scoped>\n",
       "    .dataframe tbody tr th:only-of-type {\n",
       "        vertical-align: middle;\n",
       "    }\n",
       "\n",
       "    .dataframe tbody tr th {\n",
       "        vertical-align: top;\n",
       "    }\n",
       "\n",
       "    .dataframe thead th {\n",
       "        text-align: right;\n",
       "    }\n",
       "</style>\n",
       "<table border=\"1\" class=\"dataframe\">\n",
       "  <thead>\n",
       "    <tr style=\"text-align: right;\">\n",
       "      <th></th>\n",
       "      <th>Train</th>\n",
       "      <th>Test</th>\n",
       "    </tr>\n",
       "  </thead>\n",
       "  <tbody>\n",
       "    <tr>\n",
       "      <th>Gradient Boosting Accuracy</th>\n",
       "      <td>0.894</td>\n",
       "      <td>0.886</td>\n",
       "    </tr>\n",
       "  </tbody>\n",
       "</table>\n",
       "</div>"
      ],
      "text/plain": [
       "                            Train   Test\n",
       "Gradient Boosting Accuracy  0.894  0.886"
      ]
     },
     "execution_count": 37,
     "metadata": {},
     "output_type": "execute_result"
    }
   ],
   "source": [
    "parameters_grid = {\n",
    "    'max_depth': [3, 5, 7],\n",
    "    'min_samples_leaf': [1, 2],\n",
    "    'min_samples_split': [3, 5, 7],\n",
    "    'n_estimators': [50, 100, 150],\n",
    "    'max_features': [5, 10, 15, 20]\n",
    "}\n",
    "\n",
    "gb = GradientBoostingClassifier()\n",
    "\n",
    "grid_search = GridSearchCV(estimator=gb, param_grid=parameters_grid, cv=10) \n",
    "grid_search.fit(X_train, y_train)\n",
    "best_gb = grid_search.best_estimator_\n",
    "\n",
    "y_pred = best_gb.predict(X_test)\n",
    "\n",
    "GB_accuracy = round(accuracy_score(y_test, y_pred), 3)\n",
    "pd.DataFrame([round(grid_search.best_score_, 3), GB_accuracy], index=['Train', 'Test'], columns=['Gradient Boosting Accuracy']).T"
   ]
  },
  {
   "cell_type": "markdown",
   "id": "bc783646",
   "metadata": {},
   "source": [
    "### Selected Parameters"
   ]
  },
  {
   "cell_type": "code",
   "execution_count": 38,
   "id": "a4f71afa",
   "metadata": {},
   "outputs": [
    {
     "data": {
      "text/html": [
       "<div>\n",
       "<style scoped>\n",
       "    .dataframe tbody tr th:only-of-type {\n",
       "        vertical-align: middle;\n",
       "    }\n",
       "\n",
       "    .dataframe tbody tr th {\n",
       "        vertical-align: top;\n",
       "    }\n",
       "\n",
       "    .dataframe thead th {\n",
       "        text-align: right;\n",
       "    }\n",
       "</style>\n",
       "<table border=\"1\" class=\"dataframe\">\n",
       "  <thead>\n",
       "    <tr style=\"text-align: right;\">\n",
       "      <th></th>\n",
       "      <th>max_depth</th>\n",
       "      <th>max_features</th>\n",
       "      <th>min_samples_leaf</th>\n",
       "      <th>min_samples_split</th>\n",
       "      <th>n_estimators</th>\n",
       "    </tr>\n",
       "  </thead>\n",
       "  <tbody>\n",
       "    <tr>\n",
       "      <th>Selected Value</th>\n",
       "      <td>3</td>\n",
       "      <td>5</td>\n",
       "      <td>2</td>\n",
       "      <td>7</td>\n",
       "      <td>100</td>\n",
       "    </tr>\n",
       "  </tbody>\n",
       "</table>\n",
       "</div>"
      ],
      "text/plain": [
       "                max_depth  max_features  min_samples_leaf  min_samples_split  \\\n",
       "Selected Value          3             5                 2                  7   \n",
       "\n",
       "                n_estimators  \n",
       "Selected Value           100  "
      ]
     },
     "execution_count": 38,
     "metadata": {},
     "output_type": "execute_result"
    }
   ],
   "source": [
    "dt = pd.DataFrame.from_dict(grid_search.best_params_, orient='index', columns=['Selected Value']).T\n",
    "dt"
   ]
  },
  {
   "cell_type": "markdown",
   "id": "222b5e1d",
   "metadata": {},
   "source": [
    "## SVM - Linear Kernel"
   ]
  },
  {
   "cell_type": "code",
   "execution_count": 39,
   "id": "024e5c8c",
   "metadata": {},
   "outputs": [
    {
     "data": {
      "text/html": [
       "<div>\n",
       "<style scoped>\n",
       "    .dataframe tbody tr th:only-of-type {\n",
       "        vertical-align: middle;\n",
       "    }\n",
       "\n",
       "    .dataframe tbody tr th {\n",
       "        vertical-align: top;\n",
       "    }\n",
       "\n",
       "    .dataframe thead th {\n",
       "        text-align: right;\n",
       "    }\n",
       "</style>\n",
       "<table border=\"1\" class=\"dataframe\">\n",
       "  <thead>\n",
       "    <tr style=\"text-align: right;\">\n",
       "      <th></th>\n",
       "      <th>Train</th>\n",
       "      <th>Test</th>\n",
       "    </tr>\n",
       "  </thead>\n",
       "  <tbody>\n",
       "    <tr>\n",
       "      <th>Linear SVM Accuracy</th>\n",
       "      <td>0.897</td>\n",
       "      <td>0.862</td>\n",
       "    </tr>\n",
       "  </tbody>\n",
       "</table>\n",
       "</div>"
      ],
      "text/plain": [
       "                     Train   Test\n",
       "Linear SVM Accuracy  0.897  0.862"
      ]
     },
     "execution_count": 39,
     "metadata": {},
     "output_type": "execute_result"
    }
   ],
   "source": [
    "parameters_grid = {'C': [0.05, 0.1, 0.5, 1, 5, 10, 15, 20]}\n",
    "\n",
    "svc_linear = SVC(kernel='linear', probability=True)\n",
    "\n",
    "grid_search = GridSearchCV(estimator=svc_linear, param_grid=parameters_grid, cv=10) \n",
    "grid_search.fit(X_train, y_train)\n",
    "best_svc_linear = grid_search.best_estimator_\n",
    "\n",
    "y_pred = best_svc_linear.predict(X_test)\n",
    "\n",
    "SVM_linear_accuracy = round(accuracy_score(y_test, y_pred), 3)\n",
    "pd.DataFrame([round(grid_search.best_score_, 3), SVM_linear_accuracy], index=['Train', 'Test'], columns=['Linear SVM Accuracy']).T"
   ]
  },
  {
   "cell_type": "markdown",
   "id": "8e769ea0",
   "metadata": {},
   "source": [
    "### Selected Parameter"
   ]
  },
  {
   "cell_type": "code",
   "execution_count": 40,
   "id": "b2e91d6f",
   "metadata": {},
   "outputs": [
    {
     "data": {
      "text/html": [
       "<div>\n",
       "<style scoped>\n",
       "    .dataframe tbody tr th:only-of-type {\n",
       "        vertical-align: middle;\n",
       "    }\n",
       "\n",
       "    .dataframe tbody tr th {\n",
       "        vertical-align: top;\n",
       "    }\n",
       "\n",
       "    .dataframe thead th {\n",
       "        text-align: right;\n",
       "    }\n",
       "</style>\n",
       "<table border=\"1\" class=\"dataframe\">\n",
       "  <thead>\n",
       "    <tr style=\"text-align: right;\">\n",
       "      <th></th>\n",
       "      <th>C</th>\n",
       "    </tr>\n",
       "  </thead>\n",
       "  <tbody>\n",
       "    <tr>\n",
       "      <th>Selected Value</th>\n",
       "      <td>0.05</td>\n",
       "    </tr>\n",
       "  </tbody>\n",
       "</table>\n",
       "</div>"
      ],
      "text/plain": [
       "                   C\n",
       "Selected Value  0.05"
      ]
     },
     "execution_count": 40,
     "metadata": {},
     "output_type": "execute_result"
    }
   ],
   "source": [
    "dt = pd.DataFrame.from_dict(grid_search.best_params_, orient='index', columns=['Selected Value']).T\n",
    "dt"
   ]
  },
  {
   "cell_type": "markdown",
   "id": "d9fbd9f8",
   "metadata": {},
   "source": [
    "## SVM - Radial Kernel"
   ]
  },
  {
   "cell_type": "code",
   "execution_count": 41,
   "id": "cec9359a",
   "metadata": {},
   "outputs": [
    {
     "data": {
      "text/html": [
       "<div>\n",
       "<style scoped>\n",
       "    .dataframe tbody tr th:only-of-type {\n",
       "        vertical-align: middle;\n",
       "    }\n",
       "\n",
       "    .dataframe tbody tr th {\n",
       "        vertical-align: top;\n",
       "    }\n",
       "\n",
       "    .dataframe thead th {\n",
       "        text-align: right;\n",
       "    }\n",
       "</style>\n",
       "<table border=\"1\" class=\"dataframe\">\n",
       "  <thead>\n",
       "    <tr style=\"text-align: right;\">\n",
       "      <th></th>\n",
       "      <th>Train</th>\n",
       "      <th>Test</th>\n",
       "    </tr>\n",
       "  </thead>\n",
       "  <tbody>\n",
       "    <tr>\n",
       "      <th>Radial SVM Accuracy</th>\n",
       "      <td>0.9</td>\n",
       "      <td>0.871</td>\n",
       "    </tr>\n",
       "  </tbody>\n",
       "</table>\n",
       "</div>"
      ],
      "text/plain": [
       "                     Train   Test\n",
       "Radial SVM Accuracy    0.9  0.871"
      ]
     },
     "execution_count": 41,
     "metadata": {},
     "output_type": "execute_result"
    }
   ],
   "source": [
    "parameters_grid = {\n",
    "    'C': [1, 5, 10, 20, 40],\n",
    "    'gamma': [0.0005, 0.001, 0.005, 0.01]\n",
    "}\n",
    "\n",
    "svc_radial = SVC(kernel = 'rbf', probability=True)\n",
    "\n",
    "grid_search = GridSearchCV(estimator=svc_radial, param_grid=parameters_grid, cv=10) \n",
    "grid_search.fit(X_train, y_train)\n",
    "best_svc_radial = grid_search.best_estimator_\n",
    "\n",
    "y_pred = best_svc_radial.predict(X_test)\n",
    "\n",
    "SVM_radial_accuracy = round(accuracy_score(y_test, y_pred), 3)\n",
    "pd.DataFrame([round(grid_search.best_score_, 3), SVM_radial_accuracy], index=['Train', 'Test'], columns=['Radial SVM Accuracy']).T"
   ]
  },
  {
   "cell_type": "markdown",
   "id": "c7885d05",
   "metadata": {},
   "source": [
    "### Selected Parameters"
   ]
  },
  {
   "cell_type": "code",
   "execution_count": 42,
   "id": "43fe04a5",
   "metadata": {},
   "outputs": [
    {
     "data": {
      "text/html": [
       "<div>\n",
       "<style scoped>\n",
       "    .dataframe tbody tr th:only-of-type {\n",
       "        vertical-align: middle;\n",
       "    }\n",
       "\n",
       "    .dataframe tbody tr th {\n",
       "        vertical-align: top;\n",
       "    }\n",
       "\n",
       "    .dataframe thead th {\n",
       "        text-align: right;\n",
       "    }\n",
       "</style>\n",
       "<table border=\"1\" class=\"dataframe\">\n",
       "  <thead>\n",
       "    <tr style=\"text-align: right;\">\n",
       "      <th></th>\n",
       "      <th>C</th>\n",
       "      <th>gamma</th>\n",
       "    </tr>\n",
       "  </thead>\n",
       "  <tbody>\n",
       "    <tr>\n",
       "      <th>Selected Value</th>\n",
       "      <td>20.0</td>\n",
       "      <td>0.001</td>\n",
       "    </tr>\n",
       "  </tbody>\n",
       "</table>\n",
       "</div>"
      ],
      "text/plain": [
       "                   C  gamma\n",
       "Selected Value  20.0  0.001"
      ]
     },
     "execution_count": 42,
     "metadata": {},
     "output_type": "execute_result"
    }
   ],
   "source": [
    "dt = pd.DataFrame.from_dict(grid_search.best_params_, orient='index', columns=['Selected Value']).T\n",
    "dt"
   ]
  },
  {
   "cell_type": "markdown",
   "id": "21acb45b",
   "metadata": {},
   "source": [
    "## Algorithms Comparison"
   ]
  },
  {
   "cell_type": "markdown",
   "id": "aff2cb30",
   "metadata": {},
   "source": [
    "### Test Accuracy Scores"
   ]
  },
  {
   "cell_type": "code",
   "execution_count": 47,
   "id": "0bd0e1ec",
   "metadata": {},
   "outputs": [
    {
     "data": {
      "text/html": [
       "<div>\n",
       "<style scoped>\n",
       "    .dataframe tbody tr th:only-of-type {\n",
       "        vertical-align: middle;\n",
       "    }\n",
       "\n",
       "    .dataframe tbody tr th {\n",
       "        vertical-align: top;\n",
       "    }\n",
       "\n",
       "    .dataframe thead th {\n",
       "        text-align: right;\n",
       "    }\n",
       "</style>\n",
       "<table border=\"1\" class=\"dataframe\">\n",
       "  <thead>\n",
       "    <tr style=\"text-align: right;\">\n",
       "      <th></th>\n",
       "      <th>Test Accuracy</th>\n",
       "    </tr>\n",
       "  </thead>\n",
       "  <tbody>\n",
       "    <tr>\n",
       "      <th>Gradient Boosting</th>\n",
       "      <td>0.886</td>\n",
       "    </tr>\n",
       "    <tr>\n",
       "      <th>Bagging</th>\n",
       "      <td>0.874</td>\n",
       "    </tr>\n",
       "    <tr>\n",
       "      <th>Random Forest</th>\n",
       "      <td>0.874</td>\n",
       "    </tr>\n",
       "    <tr>\n",
       "      <th>SVM - Radial Kernel</th>\n",
       "      <td>0.871</td>\n",
       "    </tr>\n",
       "    <tr>\n",
       "      <th>Logistic Regression</th>\n",
       "      <td>0.869</td>\n",
       "    </tr>\n",
       "    <tr>\n",
       "      <th>LDA</th>\n",
       "      <td>0.866</td>\n",
       "    </tr>\n",
       "    <tr>\n",
       "      <th>SVM - Linear Kernel</th>\n",
       "      <td>0.862</td>\n",
       "    </tr>\n",
       "    <tr>\n",
       "      <th>Decision Tree</th>\n",
       "      <td>0.854</td>\n",
       "    </tr>\n",
       "    <tr>\n",
       "      <th>KNN</th>\n",
       "      <td>0.848</td>\n",
       "    </tr>\n",
       "  </tbody>\n",
       "</table>\n",
       "</div>"
      ],
      "text/plain": [
       "                     Test Accuracy\n",
       "Gradient Boosting            0.886\n",
       "Bagging                      0.874\n",
       "Random Forest                0.874\n",
       "SVM - Radial Kernel          0.871\n",
       "Logistic Regression          0.869\n",
       "LDA                          0.866\n",
       "SVM - Linear Kernel          0.862\n",
       "Decision Tree                0.854\n",
       "KNN                          0.848"
      ]
     },
     "execution_count": 47,
     "metadata": {},
     "output_type": "execute_result"
    }
   ],
   "source": [
    "acc = [LOG_accuracy, KNN_accuracy, LDA_accuracy, TREE_accuracy, BG_accuracy, RF_accuracy, \n",
    "       GB_accuracy, SVM_linear_accuracy, SVM_radial_accuracy]\n",
    "algorithms = ['Logistic Regression', 'KNN', 'LDA', 'Decision Tree', 'Bagging', 'Random Forest',\n",
    "             'Gradient Boosting', 'SVM - Linear Kernel', 'SVM - Radial Kernel']\n",
    "comp = pd.DataFrame(acc, index=algorithms, columns=['Test Accuracy']).sort_values('Test Accuracy', ascending=False)\n",
    "comp"
   ]
  },
  {
   "cell_type": "markdown",
   "id": "1d2bc29b",
   "metadata": {},
   "source": [
    "The Gradient Boosting algorithm had the most accurate predictions (accuracy score: 0.886). However, the least accurate algorithms were KNN (accuracy score: 0.848).\n",
    "\n",
    "The other algorithms performed quite well and had relatively similar accuracy scores (between 0.85 and 0.87)."
   ]
  },
  {
   "cell_type": "markdown",
   "id": "f6de2aa8",
   "metadata": {},
   "source": [
    "### ROC and AUC"
   ]
  },
  {
   "cell_type": "code",
   "execution_count": 45,
   "id": "d5be322f",
   "metadata": {},
   "outputs": [
    {
     "data": {
      "image/png": "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\n",
      "text/plain": [
       "<Figure size 720x720 with 1 Axes>"
      ]
     },
     "metadata": {
      "needs_background": "light"
     },
     "output_type": "display_data"
    }
   ],
   "source": [
    "plt.figure(figsize=(10, 10))\n",
    "\n",
    "# adding the models to the list\n",
    "models = [\n",
    "{\n",
    "    'label': 'Logistic Regression',\n",
    "    'model': best_log,\n",
    "    'color': 'darkorange'\n",
    "},\n",
    "{\n",
    "    'label': 'KNN',\n",
    "    'model': best_knn,\n",
    "    'color': 'lightgreen'\n",
    "},\n",
    "{\n",
    "    'label': 'LDA',\n",
    "    'model': lda,\n",
    "    'color': 'lightskyblue'\n",
    "},\n",
    "{\n",
    "    'label': 'Decision Tree',\n",
    "    'model': best_tree,\n",
    "    'color': 'mediumturquoise'\n",
    "},\n",
    "{\n",
    "    'label': 'Bagging',\n",
    "    'model': best_bagging,\n",
    "    'color': 'mediumpurple'\n",
    "},\n",
    "{\n",
    "    'label': 'Random Forest',\n",
    "    'model': best_rf,\n",
    "    'color': 'teal'\n",
    "},\n",
    "{\n",
    "    'label': 'Gradient Boosting',\n",
    "    'model': best_gb,\n",
    "    'color': 'hotpink'\n",
    "},\n",
    "{\n",
    "    'label': 'SVM - Linear Kernel',\n",
    "    'model': best_svc_linear,\n",
    "    'color': 'cornflowerblue'\n",
    "},\n",
    "{\n",
    "    'label': 'SVM - Radial Kernel',\n",
    "    'model': best_svc_radial,\n",
    "    'color': 'gold'\n",
    "}\n",
    "]\n",
    "\n",
    "# iterate through models list\n",
    "for m in models:\n",
    "    model = m['model'] # select the model\n",
    "\n",
    "    # compute false postive and true positive rate\n",
    "    fpr, tpr, thresholds = metrics.roc_curve(y_test, model.predict_proba(X_test)[:,1])\n",
    "\n",
    "    # calculate area under the curve to display on the plot\n",
    "    auc = metrics.roc_auc_score(y_test, model.predict(X_test))\n",
    "\n",
    "    # plot the computed values\n",
    "    plt.plot(fpr, tpr, label='%s ROC (area = %0.2f)' % (m['label'], auc), color=m['color'])\n",
    "\n",
    "# custom settings for the plot \n",
    "plt.plot([0, 1], [0, 1],'--', c='black')\n",
    "plt.xlim([0.0, 1.0])\n",
    "plt.ylim([0.0, 1.05])\n",
    "plt.xlabel('1 - Specificity (False Positive Rate)')\n",
    "plt.ylabel('Sensitivity (True Positive Rate)')\n",
    "plt.title('Receiver Operating Characteristic')\n",
    "plt.legend(loc='lower right')\n",
    "plt.show() "
   ]
  },
  {
   "cell_type": "markdown",
   "id": "2129247c",
   "metadata": {},
   "source": [
    "The algorithm with the highest AUC score (0.71) is QDA, while the KNN algorithm had the lowest AUC score (0.6).\n",
    "\n",
    "All other algorithms had similar AUC scores (between 0.64 and 0.7)."
   ]
  },
  {
   "cell_type": "markdown",
   "id": "0cb82eff",
   "metadata": {},
   "source": [
    "### Conclusion"
   ]
  },
  {
   "cell_type": "markdown",
   "id": "8888ae6b",
   "metadata": {},
   "source": [
    "In this project, I used multiple algorithms in order to predict whether a costumer will respond to an offer or service, given different features.\n",
    "\n",
    "To conclude, I saw that all algorithms had good predictions and similar accuracy scores. To further improve my predictions, I would have to improve my feature engineering and possibly the algorithm’s tuning parameters."
   ]
  }
 ],
 "metadata": {
  "kernelspec": {
   "display_name": "Python 3",
   "language": "python",
   "name": "python3"
  },
  "language_info": {
   "codemirror_mode": {
    "name": "ipython",
    "version": 3
   },
   "file_extension": ".py",
   "mimetype": "text/x-python",
   "name": "python",
   "nbconvert_exporter": "python",
   "pygments_lexer": "ipython3",
   "version": "3.8.3"
  }
 },
 "nbformat": 4,
 "nbformat_minor": 5
}
